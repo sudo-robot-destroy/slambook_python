{
 "cells": [
  {
   "cell_type": "code",
   "execution_count": 1,
   "metadata": {},
   "outputs": [
    {
     "name": "stdout",
     "output_type": "stream",
     "text": [
      "Jupyter environment detected. Enabling Open3D WebVisualizer.\n",
      "[Open3D INFO] WebRTC GUI backend enabled.\n",
      "[Open3D INFO] WebRTCWindowSystem: HTTP handshake server disabled.\n"
     ]
    }
   ],
   "source": [
    "import symforce\n",
    "symforce.set_epsilon_to_symbol()\n",
    "\n",
    "import cv2 as cv\n",
    "import sys\n",
    "sys.path.append(\"..\")\n",
    "import slam_utils as su\n",
    "import numpy as np\n",
    "\n",
    "import symforce.symbolic as sf\n",
    "from symforce.opt.factor import Factor\n",
    "from symforce.opt.optimizer import Optimizer\n",
    "from symforce.values import Values"
   ]
  },
  {
   "cell_type": "code",
   "execution_count": 2,
   "metadata": {},
   "outputs": [
    {
     "name": "stdout",
     "output_type": "stream",
     "text": [
      "Max dist: 94.0\n",
      "Min dist: 4.0\n",
      "Number of matches: 79\n"
     ]
    }
   ],
   "source": [
    "img_1 = cv.imread(\"./1.png\")\n",
    "img_2 = cv.imread(\"./2.png\")\n",
    "keypoints_1, keypoints_2, matches = su.find_feature_matches(img_1, img_2)\n",
    "print(f\"Number of matches: {len(matches)}\")"
   ]
  },
  {
   "cell_type": "code",
   "execution_count": 3,
   "metadata": {},
   "outputs": [
    {
     "name": "stdout",
     "output_type": "stream",
     "text": [
      "3d-3d pairs: 72\n"
     ]
    }
   ],
   "source": [
    "depth1 = cv.imread(\"./1_depth.png\", cv.IMREAD_UNCHANGED)\n",
    "depth2 = cv.imread(\"./2_depth.png\", cv.IMREAD_UNCHANGED)\n",
    "K = np.array([[520.9, 0, 325.1], [0, 521.0, 249.7], [0, 0, 1]])\n",
    "# these have to be Nx3 numpy arrays\n",
    "pts1 = np.empty((0, 3))\n",
    "pts2 = np.empty((0, 3))\n",
    "for m in matches:\n",
    "    d1 = depth1[int(keypoints_1[m.queryIdx].pt[1]),\n",
    "                int(keypoints_1[m.queryIdx].pt[0])]\n",
    "    d2 = depth2[int(keypoints_2[m.trainIdx].pt[1]),\n",
    "                int(keypoints_2[m.trainIdx].pt[0])]\n",
    "    if d1 == 0 or d2 == 0:\n",
    "        continue\n",
    "    dd1 = d1/5000.0\n",
    "    dd2 = d2/5000.0\n",
    "    p1 = su.pixel2cam(keypoints_1[m.queryIdx].pt, K)\n",
    "    p2 = su.pixel2cam(keypoints_2[m.trainIdx].pt, K)\n",
    "    pts1 = np.vstack([pts1, np.array([p1[0]*dd1, p1[1]*dd1, dd1])])\n",
    "    pts2 = np.vstack([pts2, np.array([p2[0]*dd2, p2[1]*dd2, dd2])])\n",
    "print(f\"3d-3d pairs: {len(pts1)}\")"
   ]
  },
  {
   "cell_type": "code",
   "execution_count": 4,
   "metadata": {},
   "outputs": [
    {
     "name": "stdout",
     "output_type": "stream",
     "text": [
      "ICP via SVD results: \n",
      "R = [[ 0.99694524  0.05983348 -0.05020111]\n",
      " [-0.05932608  0.99817197  0.01153856]\n",
      " [ 0.05079973 -0.00852508  0.99867247]]\n",
      "t = [ 0.14415983 -0.06667848 -0.03009795]\n",
      "R_inv = [[ 0.99694524 -0.05932608  0.05079973]\n",
      " [ 0.05983348  0.99817197 -0.00852508]\n",
      " [-0.05020111  0.01153856  0.99867247]]\n",
      "t_inv = [-0.14614626  0.05767441  0.03806435]\n"
     ]
    }
   ],
   "source": [
    "# Solve it with SVD and numpy first\n",
    "p1 = np.zeros((3, 1))  # center of mass\n",
    "p2 = np.zeros((3, 1))\n",
    "N = pts1.shape[0]\n",
    "for i in range(N):\n",
    "    p1 += pts1[i].reshape(3, 1)\n",
    "    p2 += pts2[i].reshape(3, 1)\n",
    "p1 /= N\n",
    "p2 /= N\n",
    "q1, q2 = np.zeros((N, 3)), np.zeros((N, 3)) # remove the center\n",
    "for i in range(N):\n",
    "    q1[i] = pts1[i] - p1.reshape(3,)\n",
    "    q2[i] = pts2[i] - p2.reshape(3,)\n",
    "\n",
    "# compute q1*q2^T\n",
    "W = np.zeros((3, 3))\n",
    "for i in range(N):\n",
    "    W += np.outer(q1[i], q2[i])\n",
    "\n",
    "# SVD on W\n",
    "U, _, Vt = np.linalg.svd(W)\n",
    "V = Vt.T\n",
    "\n",
    "R_ = U @ V.T\n",
    "if np.linalg.det(R_) < 0:\n",
    "    V[:, 2] *= -1\n",
    "    R_ = U @ V.T\n",
    "\n",
    "t_ = p1.reshape(-1, 1) - R_ @ p2.reshape(-1, 1)\n",
    "\n",
    "# convert to cv::Mat\n",
    "R = np.array([[R_[0][0], R_[0][1], R_[0][2]],\n",
    "                [R_[1][0], R_[1][1], R_[1][2]],\n",
    "                [R_[2][0], R_[2][1], R_[2][2]]])\n",
    "t = np.array([t_[0][0], t_[1][0], t_[2][0]])\n",
    "\n",
    "print(\"ICP via SVD results: \")\n",
    "print(f\"R = {R}\")\n",
    "print(f\"t = {t}\")\n",
    "print(f\"R_inv = {np.linalg.inv(R)}\")\n",
    "print(f\"t_inv = {np.linalg.inv(-R)@t}\")"
   ]
  },
  {
   "cell_type": "code",
   "execution_count": 5,
   "metadata": {},
   "outputs": [],
   "source": [
    "# Now solve it with bundle adjustment\n",
    "def compute_error(pose: sf.Pose3,\n",
    "                  point: sf.V3,\n",
    "                  measurement: sf.V3) -> sf.V3: \n",
    "    return measurement - pose * point\n",
    "\n",
    "# Redo K as a Symforce type\n",
    "K = sf.M33([[520.9, 0, 325.1], [0, 521.0, 249.7], [0, 0, 1]])\n",
    "\n",
    "initial_values = Values(\n",
    "    pose = sf.Pose3(),\n",
    "    points = [sf.V3(x[0], x[1], x[2]) for x in pts2.tolist()],\n",
    "    measurements = [sf.V3(x[0], x[1], x[2]) for x in pts1.tolist()],\n",
    "    epsilon = sf.numeric_epsilon,\n",
    ")\n",
    "\n",
    "factors = []\n",
    "for i in range(len(pts1)):\n",
    "    factors.append(Factor(\n",
    "        residual=compute_error,\n",
    "        keys=[\"pose\", f\"points[{i}]\", f\"measurements[{i}]\"],\n",
    "    ))"
   ]
  },
  {
   "cell_type": "code",
   "execution_count": 7,
   "metadata": {},
   "outputs": [
    {
     "name": "stdout",
     "output_type": "stream",
     "text": [
      "[2023-05-29 12:51:03.370] [info] LM<sym::Optimize> [iter    0] lambda: 1.000e+00, error prev/linear/new: 1.199/0.000/0.910, rel reduction: 0.24145\n",
      "[2023-05-29 12:51:03.374] [info] LM<sym::Optimize> [iter    1] lambda: 2.500e-01, error prev/linear/new: 0.910/0.000/0.908, rel reduction: 0.00202\n",
      "[2023-05-29 12:51:03.378] [info] LM<sym::Optimize> [iter    2] lambda: 6.250e-02, error prev/linear/new: 0.908/0.000/0.908, rel reduction: 0.00001\n",
      "[2023-05-29 12:51:03.381] [info] LM<sym::Optimize> [iter    3] lambda: 1.562e-02, error prev/linear/new: 0.908/0.000/0.908, rel reduction: 0.00000\n"
     ]
    },
    {
     "data": {
      "text/plain": [
       "array([[ 0.99694524,  0.05983406, -0.05020036,  0.14415858],\n",
       "       [-0.05932665,  0.99817193,  0.01153899, -0.06667927],\n",
       "       [ 0.05079901, -0.00852552,  0.99867251, -0.03009813],\n",
       "       [ 0.        ,  0.        ,  0.        ,  1.        ]])"
      ]
     },
     "metadata": {},
     "output_type": "display_data"
    }
   ],
   "source": [
    "optimizer = Optimizer(\n",
    "    factors=factors,\n",
    "    optimized_keys=[\"pose\"],\n",
    "    debug_stats=True,\n",
    "    params=Optimizer.Params(iterations=1000)\n",
    ")\n",
    "result = optimizer.optimize(initial_values)\n",
    "pose = result.optimized_values.get('pose').to_homogenous_matrix()\n",
    "display(pose)"
   ]
  }
 ],
 "metadata": {
  "kernelspec": {
   "display_name": "Python 3",
   "language": "python",
   "name": "python3"
  },
  "language_info": {
   "codemirror_mode": {
    "name": "ipython",
    "version": 3
   },
   "file_extension": ".py",
   "mimetype": "text/x-python",
   "name": "python",
   "nbconvert_exporter": "python",
   "pygments_lexer": "ipython3",
   "version": "3.10.6"
  },
  "orig_nbformat": 4
 },
 "nbformat": 4,
 "nbformat_minor": 2
}
