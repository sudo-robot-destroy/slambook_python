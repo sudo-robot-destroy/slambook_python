{
 "cells": [
  {
   "cell_type": "code",
   "execution_count": 74,
   "metadata": {},
   "outputs": [],
   "source": [
    "import cv2 as cv\n",
    "import time\n",
    "import slam_utils as su"
   ]
  },
  {
   "cell_type": "code",
   "execution_count": 75,
   "metadata": {},
   "outputs": [],
   "source": [
    "img_1 = cv.imread(\"./1.png\")\n",
    "img_2 = cv.imread(\"./2.png\")"
   ]
  },
  {
   "cell_type": "code",
   "execution_count": 76,
   "metadata": {},
   "outputs": [
    {
     "name": "stdout",
     "output_type": "stream",
     "text": [
      "time_used: 0.021663188934326172\n"
     ]
    }
   ],
   "source": [
    "# initalize\n",
    "matcher = cv.DescriptorMatcher.create(cv.DescriptorMatcher_BRUTEFORCE_HAMMING)\n",
    "\n",
    "# detect Oriented FAST and compute BRIEF descriptor\n",
    "orb = cv.ORB_create()\n",
    "keypoints_1, descriptors_1 = orb.detectAndCompute(img_1, None)\n",
    "keypoints_2, descriptors_2 = orb.detectAndCompute(img_2, None)"
   ]
  },
  {
   "cell_type": "code",
   "execution_count": 77,
   "metadata": {},
   "outputs": [],
   "source": [
    "outimg1 = cv.drawKeypoints(img_1, keypoints_1, None)\n",
    "cv.imshow(\"ORB features\", outimg1)"
   ]
  },
  {
   "cell_type": "code",
   "execution_count": 78,
   "metadata": {},
   "outputs": [
    {
     "name": "stdout",
     "output_type": "stream",
     "text": [
      "match ORB cost = 0.0012049674987792969\n"
     ]
    }
   ],
   "source": [
    "# use hamming distance to match the features\n",
    "t1 = time.time()\n",
    "matches = matcher.match(descriptors_1, descriptors_2)\n",
    "t2 = time.time()\n",
    "print(f\"match ORB cost = {t2-t1}\")"
   ]
  },
  {
   "cell_type": "code",
   "execution_count": 83,
   "metadata": {},
   "outputs": [
    {
     "name": "stdout",
     "output_type": "stream",
     "text": [
      "Max dist: 94.0\n",
      "Min dist: 4.0\n",
      "total matches: 500\n",
      "good matches: 79\n"
     ]
    }
   ],
   "source": [
    "# sort them and remove outliers\n",
    "matches = sorted(matches, key=lambda x: x.distance)\n",
    "min_dist = matches[0].distance\n",
    "max_dist = matches[-1].distance\n",
    "print(f\"Max dist: {max_dist}\")\n",
    "print(f\"Min dist: {min_dist}\")\n",
    "\n",
    "# remove bad matches\n",
    "good_matches = []\n",
    "for i in range(descriptors_1.shape[0]):\n",
    "    if matches[i].distance <= max(2*min_dist, 30.0):\n",
    "        good_matches.append(matches[i])\n",
    "print(f\"total matches: {len(matches)}\")\n",
    "print(f\"good matches: {len(good_matches)}\")\n",
    "img_match = cv.drawMatches(img_1, keypoints_1, img_2, keypoints_2, matches, None)\n",
    "img_goodmatch = cv.drawMatches(img_1, keypoints_1, img_2, keypoints_2, good_matches, None)\n",
    "cv.imshow(\"all matches\", img_match)\n",
    "cv.imshow(\"good matches\", img_goodmatch)"
   ]
  },
  {
   "cell_type": "code",
   "execution_count": 80,
   "metadata": {},
   "outputs": [
    {
     "data": {
      "text/plain": [
       "-1"
      ]
     },
     "execution_count": 80,
     "metadata": {},
     "output_type": "execute_result"
    }
   ],
   "source": [
    "cv.waitKey(0)"
   ]
  }
 ],
 "metadata": {
  "kernelspec": {
   "display_name": "Python 3",
   "language": "python",
   "name": "python3"
  },
  "language_info": {
   "codemirror_mode": {
    "name": "ipython",
    "version": 3
   },
   "file_extension": ".py",
   "mimetype": "text/x-python",
   "name": "python",
   "nbconvert_exporter": "python",
   "pygments_lexer": "ipython3",
   "version": "3.10.6"
  },
  "orig_nbformat": 4
 },
 "nbformat": 4,
 "nbformat_minor": 2
}
