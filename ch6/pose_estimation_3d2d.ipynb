{
 "cells": [
  {
   "cell_type": "code",
   "execution_count": 32,
   "metadata": {},
   "outputs": [],
   "source": [
    "import cv2 as cv\n",
    "import sys\n",
    "sys.path.append(\"..\")\n",
    "import slam_utils as su\n",
    "import numpy as np\n",
    "import time"
   ]
  },
  {
   "cell_type": "code",
   "execution_count": 33,
   "metadata": {},
   "outputs": [
    {
     "name": "stdout",
     "output_type": "stream",
     "text": [
      "Max dist: 94.0\n",
      "Min dist: 4.0\n",
      "Number of matches: 79\n"
     ]
    }
   ],
   "source": [
    "# load images\n",
    "img_1 = cv.imread(\"./1.png\")\n",
    "img_2 = cv.imread(\"./2.png\")\n",
    "keypoints_1, keypoints_2, matches = su.find_feature_matches(img_1, img_2)\n",
    "print(f\"Number of matches: {len(matches)}\")\n",
    "\n",
    "d1 = cv.imread(\"./1_depth.png\", cv.IMREAD_UNCHANGED)\n",
    "K = np.array([[520.9, 0, 325.1], [0, 521.0, 249.7], [0, 0, 1]])\n"
   ]
  },
  {
   "cell_type": "code",
   "execution_count": 34,
   "metadata": {},
   "outputs": [
    {
     "name": "stdout",
     "output_type": "stream",
     "text": [
      "3d-2d pairs: 75\n"
     ]
    }
   ],
   "source": [
    "# these have to be Nx3 and Nx2 numpy arrays\n",
    "pts_3d = np.empty((0, 3))\n",
    "pts_2d = np.empty((0, 2))\n",
    "for m in matches:\n",
    "    d = d1[int(keypoints_1[m.queryIdx].pt[1]),\n",
    "           int(keypoints_1[m.queryIdx].pt[0])]\n",
    "    if d == 0:\n",
    "        continue\n",
    "    dd = d/5000.0\n",
    "    p1 = su.pixel2cam(keypoints_1[m.queryIdx].pt, K)\n",
    "    pts_3d = np.vstack([pts_3d, np.array([p1[0]*dd, p1[1]*dd, dd])])\n",
    "    pts_2d = np.vstack([pts_2d, keypoints_2[m.trainIdx].pt])\n",
    "print(f\"3d-2d pairs: {len(pts_3d)}\")"
   ]
  },
  {
   "cell_type": "code",
   "execution_count": 35,
   "metadata": {},
   "outputs": [
    {
     "name": "stdout",
     "output_type": "stream",
     "text": [
      "Solved pnp in opencv time: 0.0007300376892089844\n",
      "R = [[ 0.99790591 -0.0509194   0.03988747]\n",
      " [ 0.04981866  0.99836232  0.02812094]\n",
      " [-0.04125405 -0.02607491  0.99880839]]\n",
      "t = [[-0.12678213]\n",
      " [-0.00843949]\n",
      " [ 0.06034935]]\n"
     ]
    }
   ],
   "source": [
    "t1 = time.time()\n",
    "temp, r, t = cv.solvePnP(pts_3d, pts_2d, K, np.array([]))\n",
    "R = cv.Rodrigues(r)[0]\n",
    "t2 = time.time()\n",
    "print(f\"Solved pnp in opencv time: {t2-t1}\")\n",
    "print(f\"R = {R}\")\n",
    "print(f\"t = {t}\")"
   ]
  }
 ],
 "metadata": {
  "kernelspec": {
   "display_name": "Python 3",
   "language": "python",
   "name": "python3"
  },
  "language_info": {
   "codemirror_mode": {
    "name": "ipython",
    "version": 3
   },
   "file_extension": ".py",
   "mimetype": "text/x-python",
   "name": "python",
   "nbconvert_exporter": "python",
   "pygments_lexer": "ipython3",
   "version": "3.10.6"
  },
  "orig_nbformat": 4,
  "vscode": {
   "interpreter": {
    "hash": "e7370f93d1d0cde622a1f8e1c04877d8463912d04d973331ad4851f04de6915a"
   }
  }
 },
 "nbformat": 4,
 "nbformat_minor": 2
}
