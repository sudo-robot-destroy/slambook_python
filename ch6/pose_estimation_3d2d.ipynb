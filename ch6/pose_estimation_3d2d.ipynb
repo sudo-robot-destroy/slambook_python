{
 "cells": [
  {
   "cell_type": "code",
   "execution_count": 1,
   "metadata": {},
   "outputs": [
    {
     "name": "stdout",
     "output_type": "stream",
     "text": [
      "Jupyter environment detected. Enabling Open3D WebVisualizer.\n",
      "[Open3D INFO] WebRTC GUI backend enabled.\n",
      "[Open3D INFO] WebRTCWindowSystem: HTTP handshake server disabled.\n"
     ]
    }
   ],
   "source": [
    "import symforce\n",
    "symforce.set_epsilon_to_symbol()\n",
    "import cv2 as cv\n",
    "import sys\n",
    "sys.path.append(\"..\")\n",
    "import slam_utils as su\n",
    "import numpy as np\n",
    "import time\n",
    "import symforce.symbolic as sf\n",
    "from symforce.opt.factor import Factor\n",
    "from symforce.opt.optimizer import Optimizer\n",
    "from symforce.values import Values"
   ]
  },
  {
   "cell_type": "code",
   "execution_count": 2,
   "metadata": {},
   "outputs": [
    {
     "name": "stdout",
     "output_type": "stream",
     "text": [
      "Max dist: 94.0\n",
      "Min dist: 4.0\n",
      "Number of matches: 79\n"
     ]
    }
   ],
   "source": [
    "# load images\n",
    "img_1 = cv.imread(\"./1.png\")\n",
    "img_2 = cv.imread(\"./2.png\")\n",
    "keypoints_1, keypoints_2, matches = su.find_feature_matches(img_1, img_2)\n",
    "print(f\"Number of matches: {len(matches)}\")\n",
    "\n",
    "d1 = cv.imread(\"./1_depth.png\", cv.IMREAD_UNCHANGED)\n",
    "K = np.array([[520.9, 0, 325.1], [0, 521.0, 249.7], [0, 0, 1]])\n"
   ]
  },
  {
   "cell_type": "code",
   "execution_count": 3,
   "metadata": {},
   "outputs": [
    {
     "name": "stdout",
     "output_type": "stream",
     "text": [
      "3d-2d pairs: 75\n"
     ]
    }
   ],
   "source": [
    "# these have to be Nx3 and Nx2 numpy arrays\n",
    "pts_3d = np.empty((0, 3))\n",
    "pts_2d = np.empty((0, 2))\n",
    "for m in matches:\n",
    "    d = d1[int(keypoints_1[m.queryIdx].pt[1]),\n",
    "           int(keypoints_1[m.queryIdx].pt[0])]\n",
    "    if d == 0:\n",
    "        continue\n",
    "    dd = d/5000.0\n",
    "    p1 = su.pixel2cam(keypoints_1[m.queryIdx].pt, K)\n",
    "    pts_3d = np.vstack([pts_3d, np.array([p1[0]*dd, p1[1]*dd, dd])])\n",
    "    pts_2d = np.vstack([pts_2d, keypoints_2[m.trainIdx].pt])\n",
    "print(f\"3d-2d pairs: {len(pts_3d)}\")"
   ]
  },
  {
   "cell_type": "code",
   "execution_count": 4,
   "metadata": {},
   "outputs": [
    {
     "name": "stdout",
     "output_type": "stream",
     "text": [
      "Solved pnp in opencv time: 0.0008442401885986328\n",
      "R = [[ 0.99790591 -0.0509194   0.03988747]\n",
      " [ 0.04981866  0.99836232  0.02812094]\n",
      " [-0.04125405 -0.02607491  0.99880839]]\n",
      "t = [[-0.12678213]\n",
      " [-0.00843949]\n",
      " [ 0.06034935]]\n"
     ]
    }
   ],
   "source": [
    "t1 = time.time()\n",
    "temp, r, t = cv.solvePnP(pts_3d, pts_2d, K, np.array([]))\n",
    "R = cv.Rodrigues(r)[0]\n",
    "t2 = time.time()\n",
    "print(f\"Solved pnp in opencv time: {t2-t1}\")\n",
    "print(f\"R = {R}\")\n",
    "print(f\"t = {t}\")"
   ]
  },
  {
   "cell_type": "code",
   "execution_count": 5,
   "metadata": {},
   "outputs": [],
   "source": [
    "\n",
    "def compute_error(T: sf.Pose3, \n",
    "                 measurement: sf.V2,\n",
    "                 pos: sf.V3,\n",
    "                 K: sf.M33) -> sf.V2:\n",
    "    pos_pixel = K*(T*pos) \n",
    "    pos_pixel = pos_pixel/pos_pixel[2]\n",
    "    return measurement - sf.V2(pos_pixel[0], pos_pixel[1])"
   ]
  },
  {
   "cell_type": "code",
   "execution_count": 6,
   "metadata": {},
   "outputs": [],
   "source": [
    "# Redo K as a Symforce type\n",
    "K = sf.M33([[520.9, 0, 325.1], [0, 521.0, 249.7], [0, 0, 1]])\n",
    "\n",
    "initial_values = Values(\n",
    "    T = sf.Pose3(),\n",
    "    measurements = [sf.V2(x[0], x[1]) for x in pts_2d.tolist()],\n",
    "    points_3d = [sf.V3(x[0], x[1], x[2]) for x in pts_3d.tolist()],\n",
    "    K = K,\n",
    "    epsilon = sf.numeric_epsilon,\n",
    ")\n",
    "\n",
    "\n",
    "factors = []\n",
    "for i in range(len(pts_2d)):\n",
    "    factors.append(Factor(\n",
    "        residual=compute_error,\n",
    "        keys=[\"T\", f\"measurements[{i}]\", f\"points_3d[{i}]\", \"K\"],\n",
    "    ))\n",
    "     "
   ]
  },
  {
   "cell_type": "code",
   "execution_count": 14,
   "metadata": {},
   "outputs": [
    {
     "name": "stdout",
     "output_type": "stream",
     "text": [
      "[2023-05-15 20:38:28.521] [info] LM<sym::Optimize> [iter    0] lambda: 1.000e+00, error prev/linear/new: 20258.878/0.000/164.198, rel reduction: 0.99190\n",
      "[2023-05-15 20:38:28.527] [info] LM<sym::Optimize> [iter    1] lambda: 2.500e-01, error prev/linear/new: 164.198/0.000/149.882, rel reduction: 0.08719\n",
      "[2023-05-15 20:38:28.533] [info] LM<sym::Optimize> [iter    2] lambda: 6.250e-02, error prev/linear/new: 149.882/0.000/149.882, rel reduction: 0.00000\n",
      "Symforce solved in 0.09978246688842773 seconds\n"
     ]
    },
    {
     "data": {
      "text/plain": [
       "array([[ 0.99790591, -0.05091941,  0.03988745, -0.1267821 ],\n",
       "       [ 0.04981867,  0.99836232,  0.02812093, -0.00843948],\n",
       "       [-0.04125403, -0.02607491,  0.99880839,  0.06034935],\n",
       "       [ 0.        ,  0.        ,  0.        ,  1.        ]])"
      ]
     },
     "metadata": {},
     "output_type": "display_data"
    }
   ],
   "source": [
    "optimizer = Optimizer(\n",
    "    factors=factors,\n",
    "    optimized_keys=[\"T\"],\n",
    "    debug_stats=True,\n",
    "    params=Optimizer.Params(iterations=1000)\n",
    ")\n",
    "t1 = time.time()\n",
    "result = optimizer.optimize(initial_values)\n",
    "t2 = time.time()\n",
    "print(f\"Symforce solved in {t2-t1} seconds\")\n",
    "pose = result.optimized_values.get('T').to_homogenous_matrix()\n",
    "display(pose)"
   ]
  }
 ],
 "metadata": {
  "kernelspec": {
   "display_name": "Python 3",
   "language": "python",
   "name": "python3"
  },
  "language_info": {
   "codemirror_mode": {
    "name": "ipython",
    "version": 3
   },
   "file_extension": ".py",
   "mimetype": "text/x-python",
   "name": "python",
   "nbconvert_exporter": "python",
   "pygments_lexer": "ipython3",
   "version": "3.10.6"
  },
  "orig_nbformat": 4,
  "vscode": {
   "interpreter": {
    "hash": "e7370f93d1d0cde622a1f8e1c04877d8463912d04d973331ad4851f04de6915a"
   }
  }
 },
 "nbformat": 4,
 "nbformat_minor": 2
}
