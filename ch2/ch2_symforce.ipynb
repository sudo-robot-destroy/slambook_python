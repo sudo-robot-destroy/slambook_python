{
 "cells": [
  {
   "cell_type": "code",
   "execution_count": 51,
   "metadata": {},
   "outputs": [
    {
     "data": {
      "text/latex": [
       "$\\displaystyle \\left[\\begin{matrix}0.424264068711929\\\\0.565685424949238\\\\0.707106781186548\\end{matrix}\\right]$"
      ],
      "text/plain": [
       "⎡0.424264068711929⎤\n",
       "⎢                 ⎥\n",
       "⎢0.565685424949238⎥\n",
       "⎢                 ⎥\n",
       "⎣0.707106781186548⎦"
      ]
     },
     "metadata": {},
     "output_type": "display_data"
    },
    {
     "data": {
      "text/latex": [
       "$\\displaystyle \\left[\\begin{matrix}0.424264068712594\\\\0.565685424950127\\\\0.707106781185437\\end{matrix}\\right]$"
      ],
      "text/plain": [
       "⎡0.424264068712594⎤\n",
       "⎢                 ⎥\n",
       "⎢0.565685424950127⎥\n",
       "⎢                 ⎥\n",
       "⎣0.707106781185437⎦"
      ]
     },
     "metadata": {},
     "output_type": "display_data"
    }
   ],
   "source": [
    "import symforce\n",
    "\n",
    "symforce.set_symbolic_api(\"sympy\")\n",
    "symforce.set_log_level(\"warning\")\n",
    "\n",
    "from symforce.notebook_util import display\n",
    "import symforce.symbolic as sf\n",
    "sf.init_printing() \n",
    "\n",
    "theta = sf.symbols('theta')\n",
    "n = sf.Vector3.symbolic('n')\n",
    "# Convert axis angle to rotation matrix\n",
    "R = sf.cos(theta)*sf.matrix.I33() + (1 - sf.cos(theta))*n*n.transpose() +\\\n",
    "    sf.sin(theta) * n.skew_symmetric(n) \n",
    "# Now check the answer\n",
    "nvec = sf.Vector3(3,4,5).normalized().evalf()\n",
    "aa = sf.Rot3.from_angle_axis(.5, nvec)\n",
    "Raa = sf.Rot3.to_rotation_matrix(aa)\n",
    "# display(Raa)\n",
    "# display(R.subs({n[0]: nvec[0], n[1]: nvec[1], n[2]: nvec[2], theta: .5}))\n",
    "# Get theta from rotation matrix to make axis angle (should be .5) \n",
    "# note, to get to the sympy matrix you have to add the .mat\n",
    "th = sf.acos((Raa.mat.trace() - 1)/2)\n",
    "# display(th)\n",
    "# Now get the axis from rotation matrix. It's the eigen vector: \n",
    "display(nvec)\n",
    "# display(Raa.mat.eigenvects())\n",
    "# So apparently one of the eigen values of a rotation matrix is alway one\n",
    "# so the vector that goes with that is the one we want. But sympy outputs the \n",
    "# eigen vectors really weird and I don't want to deal with pulling that out so \n",
    "# I'm just copying it here: \n",
    "display(sf.Vector3(0.0202209154134635,0.0269612205512847,.033701525689).normalized())\n"
   ]
  }
 ],
 "metadata": {
  "kernelspec": {
   "display_name": "Python 3",
   "language": "python",
   "name": "python3"
  },
  "language_info": {
   "codemirror_mode": {
    "name": "ipython",
    "version": 3
   },
   "file_extension": ".py",
   "mimetype": "text/x-python",
   "name": "python",
   "nbconvert_exporter": "python",
   "pygments_lexer": "ipython3",
   "version": "3.10.6"
  },
  "orig_nbformat": 4,
  "vscode": {
   "interpreter": {
    "hash": "916dbcbb3f70747c44a77c7bcd40155683ae19c65e1c03b4aa3499c5328201f1"
   }
  }
 },
 "nbformat": 4,
 "nbformat_minor": 2
}
