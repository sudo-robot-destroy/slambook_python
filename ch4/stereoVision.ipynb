{
 "cells": [
  {
   "cell_type": "code",
   "execution_count": null,
   "metadata": {},
   "outputs": [],
   "source": [
    "import cv2 as cv\n",
    "import numpy as np\n",
    "from open3d import *"
   ]
  },
  {
   "cell_type": "code",
   "execution_count": null,
   "metadata": {},
   "outputs": [],
   "source": [
    "fx = 718.856; fy = 718.856; cx = 607.1928; cy = 185.2157\n",
    "b = 0.573  # baseline\n",
    "left = cv.imread('./left.png', cv.IMREAD_GRAYSCALE)\n",
    "right = cv.imread('./right.png', cv.IMREAD_GRAYSCALE)\n",
    "# Using Semi-global batch matching, it's \"sensitve to parameters\"\n",
    "sgbm = cv.StereoSGBM_create(0, 96, 9, 8*9*9, 32*9*9, 1, 63, 10, 100, 32)\n",
    "disparity = sgbm.compute(left, right)\n",
    "disparity = disparity.astype('float32')*1/16\n"
   ]
  },
  {
   "cell_type": "code",
   "execution_count": null,
   "metadata": {},
   "outputs": [],
   "source": [
    "pointcloud = []\n",
    "for v in range(left.shape[0]):\n",
    "    for u in range(left.shape[1]):\n",
    "        if not(disparity.item(v, u) <= 10.0 or disparity.item(v, u) >= 96.0):\n",
    "            x = (u - cx)/fx\n",
    "            y = (v - cy)/fy\n",
    "            depth = fx*b/disparity.item(v, u)\n",
    "            point = np.array([x*depth, y*depth, depth, left.item(v, u)/255.0])\n",
    "            pointcloud.append(point)"
   ]
  },
  {
   "cell_type": "code",
   "execution_count": null,
   "metadata": {},
   "outputs": [],
   "source": [
    "cv.imshow(\"disparity\", disparity/96)\n",
    "cv.imshow(\"left\", left)\n",
    "cv.waitKey(0)"
   ]
  },
  {
   "cell_type": "code",
   "execution_count": null,
   "metadata": {},
   "outputs": [],
   "source": [
    "points = []\n",
    "colors = []\n",
    "for point in pointcloud:\n",
    "    points.append(point[:3])\n",
    "    colors.append([point[3]]*3)\n",
    "pcd = geometry.PointCloud()\n",
    "pcd.points = utility.Vector3dVector(points)\n",
    "pcd.colors = utility.Vector3dVector(colors)\n",
    "visualization.draw_geometries([pcd])"
   ]
  }
 ],
 "metadata": {
  "kernelspec": {
   "display_name": "Python 3",
   "language": "python",
   "name": "python3"
  },
  "language_info": {
   "codemirror_mode": {
    "name": "ipython",
    "version": 3
   },
   "file_extension": ".py",
   "mimetype": "text/x-python",
   "name": "python",
   "nbconvert_exporter": "python",
   "pygments_lexer": "ipython3",
   "version": "3.10.6"
  },
  "orig_nbformat": 4,
  "vscode": {
   "interpreter": {
    "hash": "916dbcbb3f70747c44a77c7bcd40155683ae19c65e1c03b4aa3499c5328201f1"
   }
  }
 },
 "nbformat": 4,
 "nbformat_minor": 2
}
