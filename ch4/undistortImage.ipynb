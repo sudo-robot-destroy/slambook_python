{
 "cells": [
  {
   "cell_type": "code",
   "execution_count": 1,
   "metadata": {},
   "outputs": [
    {
     "data": {
      "text/plain": [
       "-1"
      ]
     },
     "execution_count": 1,
     "metadata": {},
     "output_type": "execute_result"
    }
   ],
   "source": [
    "import cv2 as cv\n",
    "import numpy as np\n",
    "\n",
    "\n",
    "image_file = \"./distorted.png\"\n",
    "image = cv.imread(image_file, cv.IMREAD_GRAYSCALE)\n",
    "cv.imshow('show', image)\n",
    "cv.waitKey(0)"
   ]
  },
  {
   "cell_type": "code",
   "execution_count": 2,
   "metadata": {},
   "outputs": [],
   "source": [
    "# We're going to do the undistortion manually instead of using OpenCV\n",
    "# rad-tan model params: \n",
    "k1 = -0.28340811; k2 = 0.07395907; p1 = 0.00019359; p2 = 1.76187114e-05\n",
    "# intrinsics\n",
    "fx = 458.654; fy = 457.296; cx = 367.215; cy = 248.375"
   ]
  },
  {
   "cell_type": "code",
   "execution_count": 3,
   "metadata": {},
   "outputs": [
    {
     "name": "stdout",
     "output_type": "stream",
     "text": [
      "0\n"
     ]
    },
    {
     "data": {
      "text/plain": [
       "-1"
      ]
     },
     "execution_count": 3,
     "metadata": {},
     "output_type": "execute_result"
    }
   ],
   "source": [
    "image_undistorted = np.empty(image.shape, dtype='uint8')\n",
    "count = 0\n",
    "for v in range(image.shape[0]):\n",
    "    for u in range(image.shape[1]):\n",
    "        # computing pixel of undistorted image according to rad-tan\n",
    "        x = (u - cx)/fx\n",
    "        y = (v - cy)/fy\n",
    "        r = np.sqrt(x*x + y*y)\n",
    "        x_dist = x*(1 + k1*r*r + k2*pow(r, 4)) + 2*p1*x*y + p2*(r*r + 2*x*x)\n",
    "        y_dist = y*(1 + k1*r*r + k2*pow(r, 4)) + p1*(r*r + 2*y*y) + 2*p2*x*y\n",
    "        u_dist = fx*x_dist + cx\n",
    "        v_dist = fy*y_dist + cy\n",
    "        # check if the pixel is in the image border\n",
    "        if u_dist >= 0 and v_dist >= 0 and u_dist < image.shape[1] and v_dist < image.shape[0]:\n",
    "            image_undistorted.itemset((v, u), image.item(int(v_dist), int(u_dist)))\n",
    "        else:\n",
    "            image_undistorted.itemset((v, u), 0)\n",
    "            count = count + 1 \n",
    "print(count)\n",
    "cv.imshow('distorted', image)\n",
    "cv.imshow('undistorted', image_undistorted)\n",
    "cv.waitKey(0)"
   ]
  }
 ],
 "metadata": {
  "kernelspec": {
   "display_name": "Python 3",
   "language": "python",
   "name": "python3"
  },
  "language_info": {
   "codemirror_mode": {
    "name": "ipython",
    "version": 3
   },
   "file_extension": ".py",
   "mimetype": "text/x-python",
   "name": "python",
   "nbconvert_exporter": "python",
   "pygments_lexer": "ipython3",
   "version": "3.10.6"
  },
  "orig_nbformat": 4,
  "vscode": {
   "interpreter": {
    "hash": "916dbcbb3f70747c44a77c7bcd40155683ae19c65e1c03b4aa3499c5328201f1"
   }
  }
 },
 "nbformat": 4,
 "nbformat_minor": 2
}
