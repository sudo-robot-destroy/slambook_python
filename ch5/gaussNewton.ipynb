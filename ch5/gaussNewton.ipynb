{
 "cells": [
  {
   "cell_type": "code",
   "execution_count": 116,
   "metadata": {},
   "outputs": [],
   "source": [
    "import numpy as np\n",
    "import time\n",
    "from scipy import linalg"
   ]
  },
  {
   "cell_type": "code",
   "execution_count": 117,
   "metadata": {},
   "outputs": [],
   "source": [
    "ar = 1.0; br = 2.0; cr = 1.0  # Ground truth\n",
    "N = 100  # Number of data points\n",
    "w_sigma = 1.0  # Sigma of noise\n",
    "inv_sigma = 1.0/w_sigma\n",
    "rng = np.random.default_rng()\n",
    "\n",
    "x_data = []; y_data = []\n",
    "for i in range(N):\n",
    "    x = i/100.0\n",
    "    x_data.append(x)\n",
    "    y_data.append(np.exp(ar*x*x + br*x + cr) + rng.normal(0, w_sigma*w_sigma))"
   ]
  },
  {
   "cell_type": "code",
   "execution_count": 118,
   "metadata": {},
   "outputs": [
    {
     "name": "stdout",
     "output_type": "stream",
     "text": [
      "total cost: 299557.9577453571\n",
      "update: [[ 0.1256465   0.19445549 -0.9518299 ]]\n",
      "estimated params: [2.1256465], [-0.80554451], [3.0481701]\n",
      "total cost: [27847.55143801]\n",
      "update: [[-0.00637237  0.58755987 -0.88637528]]\n",
      "estimated params: [2.11927413], [-0.21798464], [2.16179482]\n",
      "total cost: [1723.6047699]\n",
      "update: [[-0.5108      1.1694136  -0.72197793]]\n",
      "estimated params: [1.60847413], [0.95142896], [1.4398169]\n",
      "total cost: [160.11727935]\n",
      "update: [[-0.51710977  0.85897309 -0.35457349]]\n",
      "estimated params: [1.09136436], [1.81040205], [1.08524341]\n",
      "total cost: [99.55828856]\n",
      "update: [[-0.09426262  0.14817762 -0.05619095]]\n",
      "estimated params: [0.99710174], [1.95857967], [1.02905246]\n",
      "total cost: [98.67859854]\n",
      "update: [[-0.0040229   0.00625691 -0.00232876]]\n",
      "estimated params: [0.99307883], [1.96483658], [1.02672369]\n",
      "total cost: [98.67719108]\n",
      "update: [[-1.08018104e-04  1.66990199e-04 -6.14056532e-05]]\n",
      "estimated params: [0.99297081], [1.96500357], [1.02666229]\n",
      "total cost: [98.6771901]\n",
      "update: [[-2.77895672e-06  4.30297410e-06 -1.58514296e-06]]\n",
      "estimated params: [0.99296803], [1.96500787], [1.0266607]\n",
      "total cost: [98.6771901]\n",
      "update: [[-7.18579549e-08  1.11201438e-07 -4.09335527e-08]]\n",
      "estimated params: [0.99296796], [1.96500799], [1.02666066]\n",
      "total cost: [98.6771901]\n",
      "update: [[-1.85426708e-09  2.87009817e-09 -1.05677267e-09]]\n",
      "estimated params: [0.99296796], [1.96500799], [1.02666066]\n",
      "total cost: [98.6771901]\n",
      "update: [[-4.78845134e-11  7.41113134e-11 -2.72850111e-11]]\n",
      "estimated params: [0.99296796], [1.96500799], [1.02666066]\n",
      "Cost: [98.6771901] last cost: [98.6771901], iter: 11, break.\n",
      "estimated abc = [0.99296796], [1.96500799], [1.02666066]\n",
      "Solve time: 0.04359626770019531\n"
     ]
    }
   ],
   "source": [
    "def runit():\n",
    "    ae = 2.0; be = -1.0; ce = 4.0  # initial guess\n",
    "    # Start Gauss-Newton iterations\n",
    "    iterations = 1000\n",
    "    cost = 0; lastCost = 0\n",
    "\n",
    "    for iters in range(iterations):\n",
    "        H = np.zeros((3, 3))  # Hessian = J^T W^-1 J in Gauss-Newton\n",
    "        b = np.zeros((3, 1))\n",
    "        cost = 0\n",
    "\n",
    "        for i in range(N):\n",
    "            xi = x_data[i]; yi = y_data[i]\n",
    "            error = yi - np.exp(ae*xi*xi + be*xi + ce)\n",
    "            J = np.zeros((3, 1))\n",
    "            J[0] = -xi*xi*np.exp(ae*xi*xi + be*xi + ce)  # de/da\n",
    "            J[1] = -xi*np.exp(ae*xi*xi + be*xi + ce)  # de/db\n",
    "            J[2] = -np.exp(ae*xi*xi + be*xi + ce)  # de/dc\n",
    "\n",
    "            H += inv_sigma*inv_sigma*J*J.transpose()\n",
    "            b += -inv_sigma*inv_sigma*error*J\n",
    "\n",
    "            cost += error*error\n",
    "        dx = linalg.solve(H, b, assume_a='sym')\n",
    "        if dx[0] is np.NAN:\n",
    "            print(\"Result is nan!\")\n",
    "            break\n",
    "\n",
    "        if iters > 0 and abs(cost) > abs(lastCost):\n",
    "            print(f\"Cost: {cost} last cost: {lastCost}, iter: {iters}, break.\")\n",
    "            break\n",
    "\n",
    "        ae += dx[0]\n",
    "        be += dx[1]\n",
    "        ce += dx[2]\n",
    "\n",
    "        lastCost = cost\n",
    "        print(f\"total cost: {cost}\\nupdate: {dx.transpose()}\\n\"\n",
    "            f\"estimated params: {ae}, {be}, {ce}\")\n",
    "    print(f\"estimated abc = {ae}, {be}, {ce}\")\n",
    "\n",
    "startTime = time.time()\n",
    "runit()\n",
    "endTime = time.time()\n",
    "print(f\"Solve time: {endTime - startTime}\")"
   ]
  }
 ],
 "metadata": {
  "kernelspec": {
   "display_name": "Python 3",
   "language": "python",
   "name": "python3"
  },
  "language_info": {
   "codemirror_mode": {
    "name": "ipython",
    "version": 3
   },
   "file_extension": ".py",
   "mimetype": "text/x-python",
   "name": "python",
   "nbconvert_exporter": "python",
   "pygments_lexer": "ipython3",
   "version": "3.10.6"
  },
  "orig_nbformat": 4,
  "vscode": {
   "interpreter": {
    "hash": "916dbcbb3f70747c44a77c7bcd40155683ae19c65e1c03b4aa3499c5328201f1"
   }
  }
 },
 "nbformat": 4,
 "nbformat_minor": 2
}
