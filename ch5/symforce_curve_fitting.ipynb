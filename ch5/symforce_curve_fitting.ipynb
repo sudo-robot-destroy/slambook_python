{
 "cells": [
  {
   "cell_type": "code",
   "execution_count": 1,
   "metadata": {},
   "outputs": [],
   "source": [
    "import symforce\n",
    "symforce.set_epsilon_to_symbol()\n",
    "from symforce.values import Values\n",
    "import numpy as np\n",
    "import cv2 as cv\n",
    "import symforce.symbolic as sf"
   ]
  },
  {
   "cell_type": "code",
   "execution_count": 2,
   "metadata": {},
   "outputs": [],
   "source": [
    "from symforce.opt.factor import Factor\n",
    "from symforce.opt.optimizer import Optimizer"
   ]
  },
  {
   "cell_type": "code",
   "execution_count": 3,
   "metadata": {},
   "outputs": [],
   "source": [
    "# make the sampled data: \n",
    "ar = 1.0\n",
    "br = 2.0\n",
    "cr = 1.0\n",
    "ae = 2.0\n",
    "be = -1.0\n",
    "ce = 5.0\n",
    "N = 100\n",
    "w_sigma = 1.0\n",
    "inv_sigma = 1.0 / w_sigma\n",
    "\n",
    "rng = np.random.default_rng()\n",
    "\n",
    "x_data = np.linspace(0, 1, N)\n",
    "y_data = np.exp(ar * x_data * x_data + br * x_data + cr) + rng.normal(0, w_sigma, N)"
   ]
  },
  {
   "cell_type": "code",
   "execution_count": 4,
   "metadata": {},
   "outputs": [],
   "source": [
    "def error(abc: sf.V3, x: sf.Scalar, y: sf.Scalar) -> sf.V1:\n",
    "    return sf.V1(y - sf.exp(abc[0]*x*x + abc[1]*x + abc[2]))\n"
   ]
  },
  {
   "cell_type": "code",
   "execution_count": 5,
   "metadata": {},
   "outputs": [],
   "source": [
    "initial_values = Values(\n",
    "    abc = sf.V3([ae, be, ce]),\n",
    "    xdata = x_data.tolist(),\n",
    "    ydata = y_data.tolist(),\n",
    "    epsilon = sf.numeric_epsilon,\n",
    ")"
   ]
  },
  {
   "cell_type": "code",
   "execution_count": 6,
   "metadata": {},
   "outputs": [],
   "source": [
    "factors = []\n",
    "for i in range(len(x_data)):\n",
    "    factors.append(Factor(\n",
    "        residual=error,\n",
    "        keys=[\"abc\", f\"xdata[{i}]\", f\"ydata[{i}]\"],\n",
    "    ))"
   ]
  },
  {
   "cell_type": "code",
   "execution_count": 7,
   "metadata": {},
   "outputs": [
    {
     "data": {
      "text/plain": [
       "array([1.04825736, 1.91792162, 1.03197633])"
      ]
     },
     "execution_count": 7,
     "metadata": {},
     "output_type": "execute_result"
    }
   ],
   "source": [
    "optimizer = Optimizer(\n",
    "    factors=factors,\n",
    "    optimized_keys=[\"abc\"],\n",
    "    debug_stats=True,\n",
    "    params=Optimizer.Params(iterations=1000)\n",
    ")\n",
    "result = optimizer.optimize(initial_values)\n",
    "result.optimized_values.get('abc')"
   ]
  },
  {
   "cell_type": "code",
   "execution_count": 8,
   "metadata": {},
   "outputs": [],
   "source": [
    "a, b, c = result.optimized_values.get('abc')\n",
    "y_cal = np.exp(a * x_data * x_data + b * x_data + c)\n",
    "y_gt = np.exp(ar * x_data * x_data + br * x_data + cr)"
   ]
  },
  {
   "cell_type": "code",
   "execution_count": 9,
   "metadata": {},
   "outputs": [
    {
     "name": "stderr",
     "output_type": "stream",
     "text": [
      "qt.qpa.plugin: Could not find the Qt platform plugin \"wayland\" in \"\"\n"
     ]
    }
   ],
   "source": [
    "import matplotlib.pyplot as plt\n",
    "%matplotlib qt\n",
    "plt.plot(x_data, y_data, '.')\n",
    "plt.plot(x_data, y_cal)\n",
    "plt.plot(x_data, y_gt)\n",
    "plt.show()"
   ]
  },
  {
   "cell_type": "code",
   "execution_count": null,
   "metadata": {},
   "outputs": [],
   "source": []
  }
 ],
 "metadata": {
  "kernelspec": {
   "display_name": "Python 3",
   "language": "python",
   "name": "python3"
  },
  "language_info": {
   "codemirror_mode": {
    "name": "ipython",
    "version": 3
   },
   "file_extension": ".py",
   "mimetype": "text/x-python",
   "name": "python",
   "nbconvert_exporter": "python",
   "pygments_lexer": "ipython3",
   "version": "3.10.6"
  },
  "orig_nbformat": 4
 },
 "nbformat": 4,
 "nbformat_minor": 2
}
