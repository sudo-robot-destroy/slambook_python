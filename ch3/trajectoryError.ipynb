{
 "cells": [
  {
   "cell_type": "code",
   "execution_count": 21,
   "metadata": {},
   "outputs": [],
   "source": [
    "import symforce\n",
    "\n",
    "symforce.set_symbolic_api(\"sympy\")\n",
    "symforce.set_log_level(\"warning\")\n",
    "\n",
    "from symforce.notebook_util import display\n",
    "import symforce.symbolic as sf\n",
    "import sys\n",
    "sys.path.append('..')\n",
    "import slam_utils as su\n",
    "import open3d as o3d"
   ]
  },
  {
   "cell_type": "code",
   "execution_count": 22,
   "metadata": {},
   "outputs": [],
   "source": [
    "trajectory1 = su.read_trajectory('./groundtruth.txt')\n",
    "trajectory2 = su.read_trajectory('./estimated.txt')"
   ]
  },
  {
   "cell_type": "code",
   "execution_count": 23,
   "metadata": {},
   "outputs": [
    {
     "data": {
      "image/png": "[encoded data removed]",
      "text/latex": [
       "$\\displaystyle 2.20727859298352$"
      ],
      "text/plain": [
       "2.20727859298352"
      ]
     },
     "execution_count": 23,
     "metadata": {},
     "output_type": "execute_result"
    }
   ],
   "source": [
    "# Compute RMSE\n",
    "rmse = 0\n",
    "for i in range(len(trajectory1)):\n",
    "    p1 = trajectory2[i]\n",
    "    p2 = trajectory1[i]\n",
    "    error = sf.V6((p2.inverse() * p1).to_tangent()).norm()\n",
    "    rmse = rmse + error * error\n",
    "rmse = rmse / len(trajectory1)\n",
    "rmse = sf.sqrt(rmse)\n",
    "rmse\n",
    "# test = sf.Pose3_SE3(sf.Rot3(sf.Quaternion(sf.V3(0,0,1),0)), sf.V3(0,1,1))\n",
    "# sf.V6(test.to_tangent()).norm()"
   ]
  },
  {
   "cell_type": "code",
   "execution_count": 24,
   "metadata": {},
   "outputs": [],
   "source": [
    "\n",
    "line_set1 = su.gen_line_set(trajectory1, False, [0, 0, 1])  # blue\n",
    "line_set2 = su.gen_line_set(trajectory2, False, [1, 0, 0])  # red\n",
    "vis = o3d.visualization.Visualizer()\n",
    "vis.create_window()\n",
    "vis.add_geometry(line_set1)\n",
    "vis.add_geometry(line_set2)\n",
    "vis.add_geometry(o3d.geometry.TriangleMesh.create_coordinate_frame(size=.2))\n",
    "while(True):\n",
    "    if not vis.poll_events():\n",
    "        break\n",
    "    vis.update_renderer()\n",
    "vis.destroy_window()"
   ]
  }
 ],
 "metadata": {
  "kernelspec": {
   "display_name": "Python 3",
   "language": "python",
   "name": "python3"
  },
  "language_info": {
   "codemirror_mode": {
    "name": "ipython",
    "version": 3
   },
   "file_extension": ".py",
   "mimetype": "text/x-python",
   "name": "python",
   "nbconvert_exporter": "python",
   "pygments_lexer": "ipython3",
   "version": "3.10.6"
  },
  "orig_nbformat": 4,
  "vscode": {
   "interpreter": {
    "hash": "916dbcbb3f70747c44a77c7bcd40155683ae19c65e1c03b4aa3499c5328201f1"
   }
  }
 },
 "nbformat": 4,
 "nbformat_minor": 2
}
