{
 "cells": [
  {
   "cell_type": "code",
   "execution_count": 2,
   "metadata": {},
   "outputs": [],
   "source": [
    "# Working with quaternions\n",
    "import symforce\n",
    "\n",
    "symforce.set_symbolic_api(\"sympy\")\n",
    "symforce.set_log_level(\"warning\")\n",
    "\n",
    "from symforce.notebook_util import display\n",
    "import symforce.symbolic as sf\n",
    "sf.init_printing() \n",
    "\n",
    "sa, xa, ya, za = sf.symbols('s_a x_a y_a z_a')\n",
    "sb, xb, yb, zb = sf.symbols('s_b x_b y_b z_b')\n",
    "qa = sf.Quaternion(xyz=sf.Vector3(xa, ya, za),\n",
    "                   w=sa)\n",
    "qb = sf.Quaternion(xyz=sf.Vector3(xb, yb, zb),\n",
    "                   w=sb)"
   ]
  },
  {
   "cell_type": "code",
   "execution_count": 3,
   "metadata": {},
   "outputs": [
    {
     "data": {
      "image/png": "[encoded data removed]",
      "text/latex": [
       "$\\displaystyle s_{a} s_{b} - x_{a} x_{b} - y_{a} y_{b} - z_{a} z_{b}$"
      ],
      "text/plain": [
       "sₐ⋅s_b - xₐ⋅x_b - yₐ⋅y_b - zₐ⋅z_b"
      ]
     },
     "execution_count": 3,
     "metadata": {},
     "output_type": "execute_result"
    }
   ],
   "source": [
    "# Muliplication\n",
    "# I'm using quaternion type here and having to use the weird __mul__ \n",
    "# function. Later I realized you can just use Rot3 which uses *\n",
    "qc = qa.__mul__(qb)\n",
    "qc.w"
   ]
  },
  {
   "cell_type": "code",
   "execution_count": 4,
   "metadata": {},
   "outputs": [
    {
     "data": {
      "text/latex": [
       "$\\displaystyle \\left[\\begin{matrix}s_{a} x_{b} + s_{b} x_{a} + y_{a} z_{b} - y_{b} z_{a}\\\\s_{a} y_{b} + s_{b} y_{a} - x_{a} z_{b} + x_{b} z_{a}\\\\s_{a} z_{b} + s_{b} z_{a} + x_{a} y_{b} - x_{b} y_{a}\\end{matrix}\\right]$"
      ],
      "text/plain": [
       "⎡sₐ⋅x_b + s_b⋅xₐ + yₐ⋅z_b - y_b⋅zₐ⎤\n",
       "⎢                                 ⎥\n",
       "⎢sₐ⋅y_b + s_b⋅yₐ - xₐ⋅z_b + x_b⋅zₐ⎥\n",
       "⎢                                 ⎥\n",
       "⎣sₐ⋅z_b + s_b⋅zₐ + xₐ⋅y_b - x_b⋅yₐ⎦"
      ]
     },
     "metadata": {},
     "output_type": "display_data"
    }
   ],
   "source": [
    "qc.xyz"
   ]
  },
  {
   "cell_type": "code",
   "execution_count": 5,
   "metadata": {},
   "outputs": [
    {
     "data": {
      "image/png": "[encoded data removed]",
      "text/latex": [
       "$\\displaystyle \\sqrt{s_{a}^{2} + x_{a}^{2} + y_{a}^{2} + z_{a}^{2}}$"
      ],
      "text/plain": [
       "   _______________________\n",
       "  ╱   2     2     2     2 \n",
       "╲╱  sₐ  + xₐ  + yₐ  + zₐ  "
      ]
     },
     "execution_count": 5,
     "metadata": {},
     "output_type": "execute_result"
    }
   ],
   "source": [
    "# Length\n",
    "sf.sqrt(qa.squared_norm())"
   ]
  },
  {
   "cell_type": "code",
   "execution_count": 6,
   "metadata": {},
   "outputs": [
    {
     "data": {
      "image/png": "[encoded data removed]",
      "text/latex": [
       "$\\displaystyle s_{a}^{2} + x_{a}^{2} + y_{a}^{2} + z_{a}^{2}$"
      ],
      "text/plain": [
       "  2     2     2     2\n",
       "sₐ  + xₐ  + yₐ  + zₐ "
      ]
     },
     "metadata": {},
     "output_type": "display_data"
    }
   ],
   "source": [
    "# Conjugate\n",
    "qa.conj()\n",
    "display(qa.conj().__mul__(qa).w)\n",
    "# Note that is the square of the length!"
   ]
  },
  {
   "cell_type": "code",
   "execution_count": 7,
   "metadata": {},
   "outputs": [
    {
     "data": {
      "image/png": "[encoded data removed]",
      "text/latex": [
       "$\\displaystyle \\left[ - \\frac{x_{a}}{s_{a}^{2} + x_{a}^{2} + y_{a}^{2} + z_{a}^{2}}, \\  - \\frac{y_{a}}{s_{a}^{2} + x_{a}^{2} + y_{a}^{2} + z_{a}^{2}}, \\  - \\frac{z_{a}}{s_{a}^{2} + x_{a}^{2} + y_{a}^{2} + z_{a}^{2}}, \\  \\frac{s_{a}}{s_{a}^{2} + x_{a}^{2} + y_{a}^{2} + z_{a}^{2}}\\right]$"
      ],
      "text/plain": [
       "⎡         -xₐ                    -yₐ                    -zₐ                   \n",
       "⎢─────────────────────, ─────────────────────, ─────────────────────, ────────\n",
       "⎢  2     2     2     2    2     2     2     2    2     2     2     2    2     \n",
       "⎣sₐ  + xₐ  + yₐ  + zₐ   sₐ  + xₐ  + yₐ  + zₐ   sₐ  + xₐ  + yₐ  + zₐ   sₐ  + xₐ\n",
       "\n",
       "  sₐ         ⎤\n",
       "─────────────⎥\n",
       "2     2     2⎥\n",
       "  + yₐ  + zₐ ⎦"
      ]
     },
     "metadata": {},
     "output_type": "display_data"
    },
    {
     "data": {
      "image/png": "[encoded data removed]",
      "text/latex": [
       "$\\displaystyle \\left[ - \\frac{x_{a}}{s_{a}^{2} + x_{a}^{2} + y_{a}^{2} + z_{a}^{2}}, \\  - \\frac{y_{a}}{s_{a}^{2} + x_{a}^{2} + y_{a}^{2} + z_{a}^{2}}, \\  - \\frac{z_{a}}{s_{a}^{2} + x_{a}^{2} + y_{a}^{2} + z_{a}^{2}}, \\  \\frac{s_{a}}{s_{a}^{2} + x_{a}^{2} + y_{a}^{2} + z_{a}^{2}}\\right]$"
      ],
      "text/plain": [
       "⎡         -xₐ                    -yₐ                    -zₐ                   \n",
       "⎢─────────────────────, ─────────────────────, ─────────────────────, ────────\n",
       "⎢  2     2     2     2    2     2     2     2    2     2     2     2    2     \n",
       "⎣sₐ  + xₐ  + yₐ  + zₐ   sₐ  + xₐ  + yₐ  + zₐ   sₐ  + xₐ  + yₐ  + zₐ   sₐ  + xₐ\n",
       "\n",
       "  sₐ         ⎤\n",
       "─────────────⎥\n",
       "2     2     2⎥\n",
       "  + yₐ  + zₐ ⎦"
      ]
     },
     "metadata": {},
     "output_type": "display_data"
    },
    {
     "data": {
      "image/png": "[encoded data removed]",
      "text/latex": [
       "$\\displaystyle \\left[ 0, \\  0, \\  0, \\  1\\right]$"
      ],
      "text/plain": [
       "[0, 0, 0, 1]"
      ]
     },
     "metadata": {},
     "output_type": "display_data"
    }
   ],
   "source": [
    "# inverse\n",
    "display(qa.inverse().to_storage())\n",
    "display(qa.conj().__div__(qa.squared_norm()).to_storage())\n",
    "\n",
    "# This should be one: \n",
    "display((qa.__mul__(qa.inverse())).simplify().to_storage())"
   ]
  },
  {
   "cell_type": "code",
   "execution_count": 8,
   "metadata": {},
   "outputs": [
    {
     "data": {
      "image/png": "[encoded data removed]",
      "text/latex": [
       "$\\displaystyle \\left[ 3 x_{a}, \\  3 y_{a}, \\  3 z_{a}, \\  3 s_{a}\\right]$"
      ],
      "text/plain": [
       "[3⋅xₐ, 3⋅yₐ, 3⋅zₐ, 3⋅sₐ]"
      ]
     },
     "execution_count": 8,
     "metadata": {},
     "output_type": "execute_result"
    }
   ],
   "source": [
    "# Simple scalar multiplication ... how the heck is it this hard? \n",
    "sf.Quaternion(xyz=sf.Vector3(0,0,0), w=3).__mul__(qa).to_storage()"
   ]
  },
  {
   "cell_type": "code",
   "execution_count": 9,
   "metadata": {},
   "outputs": [
    {
     "data": {
      "text/latex": [
       "$\\displaystyle \\left[\\begin{matrix}1.0\\\\9.38185668708513 \\cdot 10^{-7}\\\\1.41421356237278\\end{matrix}\\right]$"
      ],
      "text/plain": [
       "⎡        1.0        ⎤\n",
       "⎢                   ⎥\n",
       "⎢9.38185668708513e-7⎥\n",
       "⎢                   ⎥\n",
       "⎣ 1.41421356237278  ⎦"
      ]
     },
     "metadata": {},
     "output_type": "display_data"
    }
   ],
   "source": [
    "# Rotating by quaternion is just like with rotation matrix\n",
    "# The book goes into detail about how to do it by hand but it's not \n",
    "# worth the effort lol. It has to do with making the imaginary part \n",
    "# of a new quaternion be the xyz of the vector. \n",
    "r = sf.Rot3.from_yaw_pitch_roll(0.0, 0.0, 3.14159/4.0)\n",
    "R = r.to_rotation_matrix()\n",
    "p = sf.Vector3([1.0,1.0,1.0])\n",
    "ppR = R*p\n",
    "ppR"
   ]
  },
  {
   "cell_type": "code",
   "execution_count": 10,
   "metadata": {},
   "outputs": [
    {
     "data": {
      "text/latex": [
       "$\\displaystyle \\left[\\begin{matrix}1.0\\\\9.38185668708513 \\cdot 10^{-7}\\\\1.41421356237278\\end{matrix}\\right]$"
      ],
      "text/plain": [
       "⎡        1.0        ⎤\n",
       "⎢                   ⎥\n",
       "⎢9.38185668708513e-7⎥\n",
       "⎢                   ⎥\n",
       "⎣ 1.41421356237278  ⎦"
      ]
     },
     "metadata": {},
     "output_type": "display_data"
    }
   ],
   "source": [
    "r*p"
   ]
  },
  {
   "cell_type": "code",
   "execution_count": 11,
   "metadata": {},
   "outputs": [
    {
     "data": {
      "text/plain": [
       "<Rot3 <Q xyzw=[1.00000000000000, 9.38185668708513e-7, 1.41421356237278, 0]>>"
      ]
     },
     "execution_count": 11,
     "metadata": {},
     "output_type": "execute_result"
    }
   ],
   "source": [
    "# ehh maybe it is worth it to see how to deal with symforce. \n",
    "rp = r.inverse()\n",
    "# Good lord, apparently you can't use a list to build quat. \n",
    "P = sf.Rot3(sf.Quaternion(sf.Vector3(1.0,1.0,1.0), 0.0))\n",
    "# The imaginary part here should be same as r*P above\n",
    "r*P*rp"
   ]
  },
  {
   "cell_type": "code",
   "execution_count": 12,
   "metadata": {},
   "outputs": [
    {
     "data": {
      "text/plain": [
       "<Rot3 <Q xyzw=[0.382683125915406, 0, 0, 0.923879659446842]>>"
      ]
     },
     "metadata": {},
     "output_type": "display_data"
    },
    {
     "data": {
      "text/latex": [
       "$\\displaystyle \\left[\\begin{matrix}1 & 0 & 0\\\\0 & 0.707107250279226 & -0.707106312093558\\\\0 & 0.707106312093558 & 0.707107250279226\\end{matrix}\\right]$"
      ],
      "text/plain": [
       "⎡1          0                  0         ⎤\n",
       "⎢                                        ⎥\n",
       "⎢0  0.707107250279226  -0.707106312093558⎥\n",
       "⎢                                        ⎥\n",
       "⎣0  0.707106312093558  0.707107250279226 ⎦"
      ]
     },
     "metadata": {},
     "output_type": "display_data"
    },
    {
     "data": {
      "text/latex": [
       "$\\displaystyle \\left[\\begin{matrix}1.0 & 0 & 0\\\\0 & 0.707107250279226 & -0.707106312093558\\\\0 & 0.707106312093558 & 0.707107250279226\\end{matrix}\\right]$"
      ],
      "text/plain": [
       "⎡1.0          0                  0         ⎤\n",
       "⎢                                          ⎥\n",
       "⎢ 0   0.707107250279226  -0.707106312093558⎥\n",
       "⎢                                          ⎥\n",
       "⎣ 0   0.707106312093558  0.707107250279226 ⎦"
      ]
     },
     "metadata": {},
     "output_type": "display_data"
    }
   ],
   "source": [
    "# 2.4.3 - convert quaternion to rotation matrix. \n",
    "display(r, R)\n",
    "v = r.q.xyz\n",
    "s = r.q.w\n",
    "v.skew_symmetric(v)\n",
    "\n",
    "v*v.transpose() + sf.Matrix33.eye()*s**2 + 2*s*v.skew_symmetric(v)+\\\n",
    "    v.skew_symmetric(v)*v.skew_symmetric(v)"
   ]
  },
  {
   "cell_type": "code",
   "execution_count": 53,
   "metadata": {},
   "outputs": [
    {
     "data": {
      "text/plain": [
       "'theta = 0.785000000000000'"
      ]
     },
     "metadata": {},
     "output_type": "display_data"
    },
    {
     "data": {
      "text/latex": [
       "$\\displaystyle \\left[\\begin{matrix}1.0 & 1.0 & 1.0\\end{matrix}\\right]$"
      ],
      "text/plain": [
       "[1.0  1.0  1.0]"
      ]
     },
     "metadata": {},
     "output_type": "display_data"
    }
   ],
   "source": [
    "# now see if we can get axis angle from quat\n",
    "ang = .785\n",
    "r = sf.Rot3.from_angle_axis(ang, sf.Vector3(1,1,1))\n",
    "s = r.q.w\n",
    "theta = 2*sf.acos(s)\n",
    "display(f\"theta = {theta}\")\n",
    "v = r.q.xyz\n",
    "v.transpose()/sf.sin(theta/2)\n"
   ]
  },
  {
   "cell_type": "code",
   "execution_count": 19,
   "metadata": {},
   "outputs": [
    {
     "data": {
      "text/plain": [
       "True"
      ]
     },
     "execution_count": 19,
     "metadata": {},
     "output_type": "execute_result"
    }
   ],
   "source": [
    "# Show that rotation matrix is orthogonal\n",
    "r = sf.Rot3.symbolic('r')\n",
    "R = r.to_rotation_matrix()\n",
    "# Orthogonal means transpose is equal to inverse\n",
    "R.transpose() == r.inverse().to_rotation_matrix()"
   ]
  },
  {
   "cell_type": "code",
   "execution_count": 51,
   "metadata": {},
   "outputs": [
    {
     "data": {
      "text/latex": [
       "$\\displaystyle \\left[\\begin{matrix}0 & 0 & 0\\\\0 & 0 & 0\\\\0 & 0 & 0\\end{matrix}\\right]$"
      ],
      "text/plain": [
       "⎡0  0  0⎤\n",
       "⎢       ⎥\n",
       "⎢0  0  0⎥\n",
       "⎢       ⎥\n",
       "⎣0  0  0⎦"
      ]
     },
     "metadata": {},
     "output_type": "display_data"
    }
   ],
   "source": [
    "# Prove the Rodrigues formula: \n",
    "# R = cos θI + (1 − cos θ) nnT + sin θn∧\n",
    "theta = sf.Symbol('theta')\n",
    "axis = sf.Vector3.symbolic('axis')\n",
    "r = sf.Rot3.from_angle_axis(theta, axis)\n",
    "Rgt = r.to_rotation_matrix()\n",
    "R = sf.cos(theta)*sf.I33() + (1 - sf.cos(theta)) * axis *\\\n",
    "axis.transpose() + sf.sin(theta) * axis.skew_symmetric(axis)\n",
    "test = R-Rgt\n",
    "test.subs([(theta, .5), (axis[0], 1), (axis[1], 0), (axis[2], 0)])"
   ]
  },
  {
   "cell_type": "code",
   "execution_count": 64,
   "metadata": {},
   "outputs": [
    {
     "data": {
      "text/latex": [
       "$\\displaystyle \\left[\\begin{matrix}a_{0 0} & a_{0 1} & a_{0 2} & m_{0 3} & m_{0 4}\\\\a_{1 0} & a_{1 1} & a_{1 2} & m_{1 3} & m_{1 4}\\\\a_{2 0} & a_{2 1} & a_{2 2} & m_{2 3} & m_{2 4}\\\\m_{3 0} & m_{3 1} & m_{3 2} & m_{3 3} & m_{3 4}\\\\m_{4 0} & m_{4 1} & m_{4 2} & m_{4 3} & m_{4 4}\\end{matrix}\\right]$"
      ],
      "text/plain": [
       "⎡a₀ ₀  a₀ ₁  a₀ ₂  m₀ ₃  m₀ ₄⎤\n",
       "⎢                            ⎥\n",
       "⎢a₁ ₀  a₁ ₁  a₁ ₂  m₁ ₃  m₁ ₄⎥\n",
       "⎢                            ⎥\n",
       "⎢a₂ ₀  a₂ ₁  a₂ ₂  m₂ ₃  m₂ ₄⎥\n",
       "⎢                            ⎥\n",
       "⎢m₃ ₀  m₃ ₁  m₃ ₂  m₃ ₃  m₃ ₄⎥\n",
       "⎢                            ⎥\n",
       "⎣m₄ ₀  m₄ ₁  m₄ ₂  m₄ ₃  m₄ ₄⎦"
      ]
     },
     "metadata": {},
     "output_type": "display_data"
    }
   ],
   "source": [
    "# assign an upper 3x3 block of a large matrix\n",
    "m = sf.M55.symbolic('m')\n",
    "a = sf.M33.symbolic('a')\n",
    "m[:3, :3] = a\n",
    "m"
   ]
  },
  {
   "cell_type": "code",
   "execution_count": 74,
   "metadata": {},
   "outputs": [
    {
     "data": {
      "text/latex": [
       "$\\displaystyle \\left[\\begin{matrix}3\\\\4.0\\\\5.0\\end{matrix}\\right]$"
      ],
      "text/plain": [
       "⎡ 3 ⎤\n",
       "⎢   ⎥\n",
       "⎢4.0⎥\n",
       "⎢   ⎥\n",
       "⎣5.0⎦"
      ]
     },
     "metadata": {},
     "output_type": "display_data"
    }
   ],
   "source": [
    "# Solve an Ax=b problem\n",
    "A = sf.Rot3.from_angle_axis(.5, sf.Vector3(1,0,0)).to_rotation_matrix()\n",
    "b = sf.Vector3(3,4,5)\n",
    "x = A.inv()*b\n",
    "A*x"
   ]
  }
 ],
 "metadata": {
  "kernelspec": {
   "display_name": "Python 3",
   "language": "python",
   "name": "python3"
  },
  "language_info": {
   "codemirror_mode": {
    "name": "ipython",
    "version": 3
   },
   "file_extension": ".py",
   "mimetype": "text/x-python",
   "name": "python",
   "nbconvert_exporter": "python",
   "pygments_lexer": "ipython3",
   "version": "3.10.6"
  },
  "orig_nbformat": 4,
  "vscode": {
   "interpreter": {
    "hash": "916dbcbb3f70747c44a77c7bcd40155683ae19c65e1c03b4aa3499c5328201f1"
   }
  }
 },
 "nbformat": 4,
 "nbformat_minor": 2
}
