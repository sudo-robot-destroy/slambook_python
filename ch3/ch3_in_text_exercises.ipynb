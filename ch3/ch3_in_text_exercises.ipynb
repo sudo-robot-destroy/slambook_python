{
 "cells": [
  {
   "cell_type": "code",
   "execution_count": 124,
   "metadata": {},
   "outputs": [
    {
     "data": {
      "text/latex": [
       "$\\displaystyle \\left[\\begin{matrix}X_{1} Y_{2} - X_{2} Y_{1}\\\\- X_{0} Y_{2} + X_{2} Y_{0}\\\\X_{0} Y_{1} - X_{1} Y_{0}\\end{matrix}\\right]$"
      ],
      "text/plain": [
       "⎡X₁⋅Y₂ - X₂⋅Y₁ ⎤\n",
       "⎢              ⎥\n",
       "⎢-X₀⋅Y₂ + X₂⋅Y₀⎥\n",
       "⎢              ⎥\n",
       "⎣X₀⋅Y₁ - X₁⋅Y₀ ⎦"
      ]
     },
     "metadata": {},
     "output_type": "display_data"
    }
   ],
   "source": [
    "import symforce\n",
    "\n",
    "symforce.set_symbolic_api(\"sympy\")\n",
    "symforce.set_log_level(\"warning\")\n",
    "\n",
    "from symforce.notebook_util import display\n",
    "import symforce.symbolic as sf\n",
    "# 3.1.3 Show that the cross product is a lie algebra for a 3D vector\n",
    "X = sf.Vector3.symbolic('X')\n",
    "Y = sf.Vector3.symbolic('Y')\n",
    "Z = sf.Vector3.symbolic('Z')\n",
    "\n",
    "# Closure: \n",
    "X.cross(Y)\n",
    "\n"
   ]
  },
  {
   "cell_type": "code",
   "execution_count": 125,
   "metadata": {},
   "outputs": [
    {
     "data": {
      "text/latex": [
       "$\\displaystyle \\left[\\begin{matrix}0 & 0 & 0\\end{matrix}\\right]$"
      ],
      "text/plain": [
       "[0  0  0]"
      ]
     },
     "metadata": {},
     "output_type": "display_data"
    }
   ],
   "source": [
    "# Binlinear composition: \n",
    "a = sf.Symbol('a')\n",
    "b = sf.Symbol('b')\n",
    "V1 = (a*X + b*Y).cross(Z)\n",
    "V2 = a*(X.cross(Z)) + b*(Y.cross(Z))\n",
    "(V1-V2).simplify().transpose()\n"
   ]
  },
  {
   "cell_type": "code",
   "execution_count": 126,
   "metadata": {},
   "outputs": [
    {
     "data": {
      "text/latex": [
       "$\\displaystyle \\left[\\begin{matrix}0 & 0 & 0\\end{matrix}\\right]$"
      ],
      "text/plain": [
       "[0  0  0]"
      ]
     },
     "metadata": {},
     "output_type": "display_data"
    }
   ],
   "source": [
    "# Reflexive\n",
    "X.cross(X).transpose()"
   ]
  },
  {
   "cell_type": "code",
   "execution_count": 127,
   "metadata": {},
   "outputs": [
    {
     "data": {
      "text/latex": [
       "$\\displaystyle \\left[\\begin{matrix}0 & 0 & 0\\end{matrix}\\right]$"
      ],
      "text/plain": [
       "[0  0  0]"
      ]
     },
     "metadata": {},
     "output_type": "display_data"
    }
   ],
   "source": [
    "# Jacobi identity: \n",
    "V1 = X.cross(Y.cross(Z)) + Z.cross(X.cross(Y)) + Y.cross(Z.cross(X))\n",
    "V1.simplify().transpose()"
   ]
  },
  {
   "cell_type": "code",
   "execution_count": 128,
   "metadata": {},
   "outputs": [],
   "source": [
    "# 3.1.4 Verify the lie bracket for so(3) meets the properties\n",
    "def skew_to_vec(M: sf.M33)->sf.Vector3:\n",
    "    return sf.Vector3(M[2, 1], M[0, 2], M[1, 0])\n",
    "\n",
    "def LB(phia, phib):\n",
    "    M = phia*phib.transpose() - phib*phia.transpose()\n",
    "    return skew_to_vec(M)\n",
    "\n",
    "phi_1 = sf.Vector3.symbolic(\"phi_1\")\n",
    "phi_2 = sf.Vector3.symbolic(\"phi_2\")\n",
    "phi_3 = sf.Vector3.symbolic(\"phi_3\")"
   ]
  },
  {
   "cell_type": "code",
   "execution_count": 129,
   "metadata": {},
   "outputs": [
    {
     "data": {
      "text/plain": [
       "symforce.geo.matrix.Matrix31"
      ]
     },
     "execution_count": 129,
     "metadata": {},
     "output_type": "execute_result"
    }
   ],
   "source": [
    "# Closure: \n",
    "type(LB(phi_1, phi_2))  # (should also be a Vector3)"
   ]
  },
  {
   "cell_type": "code",
   "execution_count": 130,
   "metadata": {},
   "outputs": [
    {
     "data": {
      "text/latex": [
       "$\\displaystyle \\left[\\begin{matrix}0 & 0 & 0\\end{matrix}\\right]$"
      ],
      "text/plain": [
       "[0  0  0]"
      ]
     },
     "metadata": {},
     "output_type": "display_data"
    }
   ],
   "source": [
    "# Bilinear composition:\n",
    "V1 = LB(a*phi_1 + b*phi_2, phi_3)\n",
    "V2 = a*LB(phi_1, phi_3) + b*LB(phi_2, phi_3)\n",
    "(V1-V2).simplify().transpose()"
   ]
  },
  {
   "cell_type": "code",
   "execution_count": 131,
   "metadata": {},
   "outputs": [
    {
     "data": {
      "text/latex": [
       "$\\displaystyle \\left[\\begin{matrix}0 & 0 & 0\\end{matrix}\\right]$"
      ],
      "text/plain": [
       "[0  0  0]"
      ]
     },
     "metadata": {},
     "output_type": "display_data"
    }
   ],
   "source": [
    "# Reflexive\n",
    "LB(phi_1, phi_1).transpose()"
   ]
  },
  {
   "cell_type": "code",
   "execution_count": 132,
   "metadata": {},
   "outputs": [
    {
     "data": {
      "text/latex": [
       "$\\displaystyle \\left[\\begin{matrix}0 & 0 & 0\\end{matrix}\\right]$"
      ],
      "text/plain": [
       "[0  0  0]"
      ]
     },
     "metadata": {},
     "output_type": "display_data"
    }
   ],
   "source": [
    "# Jacobi\n",
    "V = LB(phi_1, LB(phi_2, phi_3)) + LB(phi_3, LB(phi_1, phi_2)) + LB(phi_2, LB(phi_3, phi_1))\n",
    "V.simplify().transpose()"
   ]
  },
  {
   "cell_type": "code",
   "execution_count": 140,
   "metadata": {},
   "outputs": [],
   "source": [
    "# 3.1.5 Verify se(3) lie bracket meets the properties of lie algreba\n",
    "rho_1 = sf.Vector3.symbolic('rho_1')\n",
    "rho_2 = sf.Vector3.symbolic('rho_2')\n",
    "rho_3 = sf.Vector3.symbolic('rho_3')\n",
    "xi_1 = sf.Vector6.block_matrix([[rho_1], [phi_1]])\n",
    "xi_2 = sf.Vector6.block_matrix([[rho_2], [phi_2]])\n",
    "xi_3 = sf.Vector6.block_matrix([[rho_3], [phi_3]])\n",
    "\n",
    "def make_skew(xi: sf.Vector6)->sf.M44:\n",
    "    phi = sf.Vector3(xi[3:])\n",
    "    rho = sf.Vector3(xi[:3])\n",
    "    phi_hat = phi.skew_symmetric(phi)\n",
    "    return sf.M44.block_matrix([\n",
    "        [phi_hat, rho],\n",
    "        [sf.Vector3.zeros(3,1).transpose(), sf.Vector1(0)] \n",
    "    ])\n",
    "\n",
    "def skew_to_vec6(M: sf.M44)->sf.Vector6:\n",
    "    rot_part = M[:3,:3]\n",
    "    vec = skew_to_vec(rot_part)\n",
    "    rho = M[:3, 3]\n",
    "    return sf.Vector6.block_matrix([[rho], [vec]])\n",
    "\n",
    "def se3LB(xi1: sf.V6, xi2: sf.V6)->sf.V6:\n",
    "    temp = make_skew(xi1)*make_skew(xi2) - make_skew(xi2)*make_skew(xi1)\n",
    "    return skew_to_vec6(temp)"
   ]
  },
  {
   "cell_type": "code",
   "execution_count": 141,
   "metadata": {},
   "outputs": [
    {
     "data": {
      "text/plain": [
       "symforce.geo.matrix.Matrix61"
      ]
     },
     "execution_count": 141,
     "metadata": {},
     "output_type": "execute_result"
    }
   ],
   "source": [
    "# Closure - should be V6\n",
    "type(se3LB(xi_1, xi_2))"
   ]
  },
  {
   "cell_type": "code",
   "execution_count": 146,
   "metadata": {},
   "outputs": [
    {
     "data": {
      "text/latex": [
       "$\\displaystyle \\left[\\begin{matrix}0 & 0 & 0 & 0 & 0 & 0\\end{matrix}\\right]$"
      ],
      "text/plain": [
       "[0  0  0  0  0  0]"
      ]
     },
     "metadata": {},
     "output_type": "display_data"
    }
   ],
   "source": [
    "# Bilinear composition:\n",
    "V1 = se3LB(a*xi_1 + b*xi_2, xi_3)\n",
    "V2 = a*se3LB(xi_1, xi_3) + b*se3LB(xi_2, xi_3)\n",
    "(V1-V2).simplify().transpose()"
   ]
  },
  {
   "cell_type": "code",
   "execution_count": 148,
   "metadata": {},
   "outputs": [
    {
     "data": {
      "text/latex": [
       "$\\displaystyle \\left[\\begin{matrix}0 & 0 & 0 & 0 & 0 & 0\\end{matrix}\\right]$"
      ],
      "text/plain": [
       "[0  0  0  0  0  0]"
      ]
     },
     "metadata": {},
     "output_type": "display_data"
    }
   ],
   "source": [
    "# Reflexive\n",
    "se3LB(xi_1, xi_1).transpose()"
   ]
  },
  {
   "cell_type": "code",
   "execution_count": 153,
   "metadata": {},
   "outputs": [
    {
     "data": {
      "text/latex": [
       "$\\displaystyle \\left[\\begin{matrix}0 & 0 & 0 & 0 & 0 & 0\\end{matrix}\\right]$"
      ],
      "text/plain": [
       "[0  0  0  0  0  0]"
      ]
     },
     "metadata": {},
     "output_type": "display_data"
    }
   ],
   "source": [
    "# Jacobi identity: \n",
    "V = se3LB(xi_1, se3LB(xi_2, xi_3)) +\\\n",
    "    se3LB(xi_3, se3LB(xi_1, xi_2)) +\\\n",
    "    se3LB(xi_2, se3LB(xi_3, xi_1))\n",
    "V.simplify().transpose()"
   ]
  }
 ],
 "metadata": {
  "kernelspec": {
   "display_name": "Python 3",
   "language": "python",
   "name": "python3"
  },
  "language_info": {
   "codemirror_mode": {
    "name": "ipython",
    "version": 3
   },
   "file_extension": ".py",
   "mimetype": "text/x-python",
   "name": "python",
   "nbconvert_exporter": "python",
   "pygments_lexer": "ipython3",
   "version": "3.10.6"
  },
  "orig_nbformat": 4,
  "vscode": {
   "interpreter": {
    "hash": "916dbcbb3f70747c44a77c7bcd40155683ae19c65e1c03b4aa3499c5328201f1"
   }
  }
 },
 "nbformat": 4,
 "nbformat_minor": 2
}
