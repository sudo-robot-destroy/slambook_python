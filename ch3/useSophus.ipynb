{
 "cells": [
  {
   "cell_type": "code",
   "execution_count": 1,
   "metadata": {},
   "outputs": [
    {
     "data": {
      "text/latex": [
       "$\\displaystyle \\left[\\begin{matrix}0 & 0 & \\frac{\\pi}{2}\\end{matrix}\\right]$"
      ],
      "text/plain": [
       "⎡      π⎤\n",
       "⎢0  0  ─⎥\n",
       "⎣      2⎦"
      ]
     },
     "metadata": {},
     "output_type": "display_data"
    }
   ],
   "source": [
    "import symforce\n",
    "\n",
    "symforce.set_symbolic_api(\"sympy\")\n",
    "symforce.set_log_level(\"warning\")\n",
    "\n",
    "from symforce.notebook_util import display\n",
    "import symforce.symbolic as sf\n",
    "\n",
    "SO3d = sf.Rot3.from_angle_axis(sf.pi/2, sf.V3(0, 0, 1))\n",
    "q = SO3d.q\n",
    "R = SO3d.to_rotation_matrix()\n",
    "# To tangent is what the book and sophus calls .log()\n",
    "so3 = sf.V3(SO3d.to_tangent())\n",
    "so3.transpose()"
   ]
  },
  {
   "cell_type": "code",
   "execution_count": 2,
   "metadata": {},
   "outputs": [
    {
     "data": {
      "text/latex": [
       "$\\displaystyle \\left[\\begin{matrix}0 & - \\frac{\\pi}{2} & 0\\\\\\frac{\\pi}{2} & 0 & 0\\\\0 & 0 & 0\\end{matrix}\\right]$"
      ],
      "text/plain": [
       "⎡   -π    ⎤\n",
       "⎢0  ───  0⎥\n",
       "⎢    2    ⎥\n",
       "⎢         ⎥\n",
       "⎢π        ⎥\n",
       "⎢─   0   0⎥\n",
       "⎢2        ⎥\n",
       "⎢         ⎥\n",
       "⎣0   0   0⎦"
      ]
     },
     "metadata": {},
     "output_type": "display_data"
    }
   ],
   "source": [
    "S = so3.skew_symmetric(so3)\n",
    "S"
   ]
  },
  {
   "cell_type": "code",
   "execution_count": 3,
   "metadata": {},
   "outputs": [
    {
     "data": {
      "text/latex": [
       "$\\displaystyle \\left[\\begin{matrix}0 & 0 & \\frac{\\pi}{2}\\end{matrix}\\right]$"
      ],
      "text/plain": [
       "⎡      π⎤\n",
       "⎢0  0  ─⎥\n",
       "⎣      2⎦"
      ]
     },
     "metadata": {},
     "output_type": "display_data"
    }
   ],
   "source": [
    "def skew_to_vec(M: sf.M33)->sf.Vector3:\n",
    "    return sf.Vector3(M[2, 1], M[0, 2], M[1, 0])\n",
    "\n",
    "skew_to_vec(S).transpose()"
   ]
  },
  {
   "cell_type": "code",
   "execution_count": 4,
   "metadata": {},
   "outputs": [
    {
     "data": {
      "text/latex": [
       "$\\displaystyle \\left[\\begin{matrix}0 & -1.0 & 0\\\\0.999999995 & 0 & -9.99999998333333 \\cdot 10^{-5}\\\\9.99999998333333 \\cdot 10^{-5} & 0 & 0.999999995\\end{matrix}\\right]$"
      ],
      "text/plain": [
       "⎡         0           -1.0           0          ⎤\n",
       "⎢                                               ⎥\n",
       "⎢    0.999999995       0    -9.99999998333333e-5⎥\n",
       "⎢                                               ⎥\n",
       "⎣9.99999998333333e-5   0        0.999999995     ⎦"
      ]
     },
     "metadata": {},
     "output_type": "display_data"
    }
   ],
   "source": [
    "# Update by perturbation model: \n",
    "update_so3 = sf.V3(1e-4, 0, 0)  # A small update\n",
    "SO3_updated =  (sf.Rot3.from_tangent(update_so3) * SO3d).to_rotation_matrix()\n",
    "display(SO3_updated)"
   ]
  },
  {
   "cell_type": "code",
   "execution_count": 5,
   "metadata": {},
   "outputs": [
    {
     "name": "stdout",
     "output_type": "stream",
     "text": [
      "SE3: \n"
     ]
    },
    {
     "data": {
      "text/latex": [
       "$\\displaystyle \\left[\\begin{matrix}0 & -1 & 0 & 1\\\\1 & 0 & 0 & 0\\\\0 & 0 & 1 & 0\\\\0 & 0 & 0 & 1\\end{matrix}\\right]$"
      ],
      "text/plain": [
       "⎡0  -1  0  1⎤\n",
       "⎢           ⎥\n",
       "⎢1  0   0  0⎥\n",
       "⎢           ⎥\n",
       "⎢0  0   1  0⎥\n",
       "⎢           ⎥\n",
       "⎣0  0   0  1⎦"
      ]
     },
     "metadata": {},
     "output_type": "display_data"
    }
   ],
   "source": [
    "# For SE(3)\n",
    "t = sf.V3(1,0,0)\n",
    "SE3 = sf.Pose3_SE3(SO3d, t)\n",
    "print(\"SE3: \")\n",
    "SE3.to_homogenous_matrix()"
   ]
  },
  {
   "cell_type": "code",
   "execution_count": 6,
   "metadata": {},
   "outputs": [
    {
     "data": {
      "text/latex": [
       "$\\displaystyle \\left[\\begin{matrix}0 & 0 & \\frac{\\pi}{2} & \\frac{\\pi}{4} & - 0.25 \\pi & 0\\end{matrix}\\right]$"
      ],
      "text/plain": [
       "⎡      π  π            ⎤\n",
       "⎢0  0  ─  ─  -0.25⋅π  0⎥\n",
       "⎣      2  4            ⎦"
      ]
     },
     "metadata": {},
     "output_type": "display_data"
    }
   ],
   "source": [
    "# Look at the lie algebra (V6)\n",
    "se3 = sf.V6(SE3.to_tangent())\n",
    "se3.transpose()  # I noticed the order is different for rho and phi"
   ]
  },
  {
   "cell_type": "code",
   "execution_count": 7,
   "metadata": {},
   "outputs": [
    {
     "data": {
      "text/latex": [
       "$\\displaystyle \\left[\\begin{matrix}0 & - \\frac{\\pi}{2} & 0 & \\frac{\\pi}{4}\\\\\\frac{\\pi}{2} & 0 & 0 & - 0.25 \\pi\\\\0 & 0 & 0 & 0\\\\0 & 0 & 0 & 0\\end{matrix}\\right]$"
      ],
      "text/plain": [
       "⎡   -π         π   ⎤\n",
       "⎢0  ───  0     ─   ⎥\n",
       "⎢    2         4   ⎥\n",
       "⎢                  ⎥\n",
       "⎢π                 ⎥\n",
       "⎢─   0   0  -0.25⋅π⎥\n",
       "⎢2                 ⎥\n",
       "⎢                  ⎥\n",
       "⎢0   0   0     0   ⎥\n",
       "⎢                  ⎥\n",
       "⎣0   0   0     0   ⎦"
      ]
     },
     "metadata": {},
     "output_type": "display_data"
    }
   ],
   "source": [
    "def make_skew(xi: sf.Vector6)->sf.M44:\n",
    "    phi = sf.Vector3(xi[:3])\n",
    "    rho = sf.Vector3(xi[3:])\n",
    "    phi_hat = phi.skew_symmetric(phi)\n",
    "    return sf.M44.block_matrix([\n",
    "        [phi_hat, rho],\n",
    "        [sf.Vector3.zeros(3,1).transpose(), sf.Vector1(0)] \n",
    "    ])\n",
    "\n",
    "def skew_to_vec6(M: sf.M44)->sf.Vector6:\n",
    "    rot_part = M[:3,:3]\n",
    "    vec = skew_to_vec(rot_part)\n",
    "    rho = M[:3, 3]\n",
    "    return sf.Vector6.block_matrix([[rho], [vec]])\n",
    "\n",
    "se3_hat = make_skew(se3)\n",
    "se3_hat"
   ]
  },
  {
   "cell_type": "code",
   "execution_count": 8,
   "metadata": {},
   "outputs": [
    {
     "data": {
      "text/latex": [
       "$\\displaystyle \\left[\\begin{matrix}\\frac{\\pi}{4} & - 0.25 \\pi & 0 & 0 & 0 & \\frac{\\pi}{2}\\end{matrix}\\right]$"
      ],
      "text/plain": [
       "⎡π                    π⎤\n",
       "⎢─  -0.25⋅π  0  0  0  ─⎥\n",
       "⎣4                    2⎦"
      ]
     },
     "metadata": {},
     "output_type": "display_data"
    }
   ],
   "source": [
    "skew_to_vec6(se3_hat).transpose()"
   ]
  },
  {
   "cell_type": "code",
   "execution_count": 25,
   "metadata": {},
   "outputs": [
    {
     "data": {
      "text/latex": [
       "$\\displaystyle \\left[\\begin{matrix}0 & -1.0 & 0 & 1.0001\\\\1.0 & 0 & 0 & 0\\\\0 & 0 & 1 & 0\\\\0 & 0 & 0 & 1\\end{matrix}\\right]$"
      ],
      "text/plain": [
       "⎡ 0   -1.0  0  1.0001⎤\n",
       "⎢                    ⎥\n",
       "⎢1.0   0    0    0   ⎥\n",
       "⎢                    ⎥\n",
       "⎢ 0    0    1    0   ⎥\n",
       "⎢                    ⎥\n",
       "⎣ 0    0    0    1   ⎦"
      ]
     },
     "metadata": {},
     "output_type": "display_data"
    }
   ],
   "source": [
    "# Finally the update:\n",
    "update_se3 = sf.V6()\n",
    "# NOTE that the order of the vector is different than the book\n",
    "# the translation is the second part here. \n",
    "update_se3[3] = 1e-4\n",
    "SE3_updated = sf.Pose3_SE3.from_tangent(update_se3, .00000001)*SE3\n",
    "display(SE3_updated.to_homogenous_matrix())\n"
   ]
  },
  {
   "cell_type": "code",
   "execution_count": null,
   "metadata": {},
   "outputs": [],
   "source": []
  }
 ],
 "metadata": {
  "kernelspec": {
   "display_name": "Python 3",
   "language": "python",
   "name": "python3"
  },
  "language_info": {
   "codemirror_mode": {
    "name": "ipython",
    "version": 3
   },
   "file_extension": ".py",
   "mimetype": "text/x-python",
   "name": "python",
   "nbconvert_exporter": "python",
   "pygments_lexer": "ipython3",
   "version": "3.10.6"
  },
  "orig_nbformat": 4,
  "vscode": {
   "interpreter": {
    "hash": "916dbcbb3f70747c44a77c7bcd40155683ae19c65e1c03b4aa3499c5328201f1"
   }
  }
 },
 "nbformat": 4,
 "nbformat_minor": 2
}
