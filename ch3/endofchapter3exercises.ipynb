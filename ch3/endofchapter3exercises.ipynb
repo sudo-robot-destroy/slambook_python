{
 "cells": [
  {
   "cell_type": "code",
   "execution_count": 49,
   "metadata": {},
   "outputs": [
    {
     "data": {
      "text/plain": [
       "symforce.geo.rot3.Rot3"
      ]
     },
     "metadata": {},
     "output_type": "display_data"
    },
    {
     "data": {
      "text/plain": [
       "symforce.geo.pose3_se3.Pose3_SE3"
      ]
     },
     "metadata": {},
     "output_type": "display_data"
    },
    {
     "data": {
      "text/plain": [
       "symforce.geo.matrix.Matrix44"
      ]
     },
     "metadata": {},
     "output_type": "display_data"
    }
   ],
   "source": [
    "import symforce\n",
    "\n",
    "symforce.set_symbolic_api(\"sympy\")\n",
    "symforce.set_log_level(\"warning\")\n",
    "\n",
    "from symforce.notebook_util import display\n",
    "import symforce.symbolic as sf\n",
    "import sys\n",
    "sys.path.append('..')\n",
    "import slam_utils as su\n",
    "\n",
    "\n",
    "# Starts on page 76\n",
    "# 1. Verify SO(3), SE(3), and Sim(3) are groups on matrix multiplication\n",
    "a1 = sf.Rot3.symbolic('a1')\n",
    "a2 = sf.Rot3.symbolic('a2')\n",
    "a3 = sf.Rot3.symbolic('a3')\n",
    "b1 = sf.Pose3_SE3.symbolic('b1')\n",
    "b2 = sf.Pose3_SE3.symbolic('b2')\n",
    "b3 = sf.Pose3_SE3.symbolic('b3')\n",
    "s = sf.Symbol('s')\n",
    "t1 = sf.V3.symbolic('t1')\n",
    "t2 = sf.V3.symbolic('t2')\n",
    "t3 = sf.V3.symbolic('t3')\n",
    "R1 = sf.Rot3.symbolic('R1').to_rotation_matrix()\n",
    "R2 = sf.Rot3.symbolic('R2').to_rotation_matrix()\n",
    "R3 = sf.Rot3.symbolic('R3').to_rotation_matrix()\n",
    "c1 = sf.M44.block_matrix([\n",
    "    [s*R1, t1],\n",
    "    [sf.V3.zero().transpose(), sf.V1(1)]\n",
    "])\n",
    "c2 = sf.M44.block_matrix([\n",
    "    [s*R2, t2],\n",
    "    [sf.V3.zero().transpose(), sf.V1(1)]\n",
    "])\n",
    "c3 = sf.M44.block_matrix([\n",
    "    [s*R3, t3],\n",
    "    [sf.V3.zero().transpose(), sf.V1(1)]\n",
    "])\n",
    "\n",
    "# Closure: \n",
    "display(type(a1*a2), type(b1*b2), type(c1*c2))"
   ]
  },
  {
   "cell_type": "code",
   "execution_count": 54,
   "metadata": {},
   "outputs": [
    {
     "data": {
      "text/latex": [
       "$\\displaystyle \\left[\\begin{matrix}0 & 0 & 0\\\\0 & 0 & 0\\\\0 & 0 & 0\\end{matrix}\\right]$"
      ],
      "text/plain": [
       "⎡0  0  0⎤\n",
       "⎢       ⎥\n",
       "⎢0  0  0⎥\n",
       "⎢       ⎥\n",
       "⎣0  0  0⎦"
      ]
     },
     "metadata": {},
     "output_type": "display_data"
    },
    {
     "data": {
      "text/latex": [
       "$\\displaystyle \\left[\\begin{matrix}0 & 0 & 0 & 0\\\\0 & 0 & 0 & 0\\\\0 & 0 & 0 & 0\\\\0 & 0 & 0 & 0\\end{matrix}\\right]$"
      ],
      "text/plain": [
       "⎡0  0  0  0⎤\n",
       "⎢          ⎥\n",
       "⎢0  0  0  0⎥\n",
       "⎢          ⎥\n",
       "⎢0  0  0  0⎥\n",
       "⎢          ⎥\n",
       "⎣0  0  0  0⎦"
      ]
     },
     "metadata": {},
     "output_type": "display_data"
    },
    {
     "data": {
      "text/latex": [
       "$\\displaystyle \\left[\\begin{matrix}0 & 0 & 0 & 0\\\\0 & 0 & 0 & 0\\\\0 & 0 & 0 & 0\\\\0 & 0 & 0 & 0\\end{matrix}\\right]$"
      ],
      "text/plain": [
       "⎡0  0  0  0⎤\n",
       "⎢          ⎥\n",
       "⎢0  0  0  0⎥\n",
       "⎢          ⎥\n",
       "⎢0  0  0  0⎥\n",
       "⎢          ⎥\n",
       "⎣0  0  0  0⎦"
      ]
     },
     "metadata": {},
     "output_type": "display_data"
    }
   ],
   "source": [
    "jjj# Combination\n",
    "v1 = (a1*a2)*a3 \n",
    "v2 = a1*(a2*a3)\n",
    "display((v1.to_rotation_matrix()-v2.to_rotation_matrix()).simplify())\n",
    "v1 = ((b1*b2)*b3).subs({b1.t[0]:0, b1.t[1]:0, b1.t[2]:0,\n",
    "              b2.t[0]:0, b2.t[1]:0, b2.t[2]:0,\n",
    "              b3.t[0]:0, b3.t[1]:0, b3.t[2]:0})\n",
    "v2 = (b1*(b2*b3)).subs({b1.t[0]:0, b1.t[1]:0, b1.t[2]:0,\n",
    "              b2.t[0]:0, b2.t[1]:0, b2.t[2]:0,\n",
    "              b3.t[0]:0, b3.t[1]:0, b3.t[2]:0})\n",
    "display((v1.to_homogenous_matrix() - v2.to_homogenous_matrix()).simplify())\n",
    "v1 = (c1*c2)*c3\n",
    "v2 = (c1*(c2*c3))\n",
    "v3 = v1-v2\n",
    "v3.simplify()"
   ]
  },
  {
   "cell_type": "code",
   "execution_count": 58,
   "metadata": {},
   "outputs": [
    {
     "data": {
      "text/plain": [
       "<Rot3 <Q xyzw=[a1_x, a1_y, a1_z, a1_w]>>"
      ]
     },
     "metadata": {},
     "output_type": "display_data"
    },
    {
     "data": {
      "text/plain": [
       "<Rot3 <Q xyzw=[a1_x, a1_y, a1_z, a1_w]>>"
      ]
     },
     "metadata": {},
     "output_type": "display_data"
    },
    {
     "data": {
      "text/plain": [
       "<Rot3 <Q xyzw=[a1_x, a1_y, a1_z, a1_w]>>"
      ]
     },
     "metadata": {},
     "output_type": "display_data"
    },
    {
     "data": {
      "text/plain": [
       "<Pose3_SE3 R=<Rot3 <Q xyzw=[b1.R_x, b1.R_y, b1.R_z, b1.R_w]>>, t=(b1.t0, b1.t1, b1.t2)>"
      ]
     },
     "metadata": {},
     "output_type": "display_data"
    },
    {
     "data": {
      "text/plain": [
       "<Pose3_SE3 R=<Rot3 <Q xyzw=[b1.R_x, b1.R_y, b1.R_z, b1.R_w]>>, t=(b1.t0, b1.t1, b1.t2)>"
      ]
     },
     "metadata": {},
     "output_type": "display_data"
    },
    {
     "data": {
      "text/plain": [
       "<Pose3_SE3 R=<Rot3 <Q xyzw=[b1.R_x, b1.R_y, b1.R_z, b1.R_w]>>, t=(b1.t0, b1.t1, b1.t2)>"
      ]
     },
     "metadata": {},
     "output_type": "display_data"
    },
    {
     "data": {
      "text/latex": [
       "$\\displaystyle \\left[\\begin{matrix}0 & 0 & 0 & 0\\\\0 & 0 & 0 & 0\\\\0 & 0 & 0 & 0\\\\0 & 0 & 0 & 0\\end{matrix}\\right]$"
      ],
      "text/plain": [
       "⎡0  0  0  0⎤\n",
       "⎢          ⎥\n",
       "⎢0  0  0  0⎥\n",
       "⎢          ⎥\n",
       "⎢0  0  0  0⎥\n",
       "⎢          ⎥\n",
       "⎣0  0  0  0⎦"
      ]
     },
     "metadata": {},
     "output_type": "display_data"
    }
   ],
   "source": [
    "# unit\n",
    "display(a1, sf.Rot3()*a1, a1*sf.Rot3())\n",
    "display(b1, sf.Pose3_SE3()*b1, b1*sf.Pose3_SE3())\n",
    "display(c1 - sf.I44()*c1 )"
   ]
  },
  {
   "cell_type": "code",
   "execution_count": 69,
   "metadata": {},
   "outputs": [
    {
     "data": {
      "text/latex": [
       "$\\displaystyle \\left[\\begin{matrix}1 & 0 & 0 & 0\\\\0 & 1 & 0 & 0\\\\0 & 0 & 1 & 0\\\\0 & 0 & 0 & 1\\end{matrix}\\right]$"
      ],
      "text/plain": [
       "⎡1  0  0  0⎤\n",
       "⎢          ⎥\n",
       "⎢0  1  0  0⎥\n",
       "⎢          ⎥\n",
       "⎢0  0  1  0⎥\n",
       "⎢          ⎥\n",
       "⎣0  0  0  1⎦"
      ]
     },
     "metadata": {},
     "output_type": "display_data"
    }
   ],
   "source": [
    "# Inverse\n",
    "(a1*a1.inverse()).to_rotation_matrix()\n",
    "(b1*b1.inverse()).to_homogenous_matrix().subs({b1.t[0]:0, b1.t[1]:0, b1.t[2]:0})\n",
    "# (c1*c1.inv()) ugh, tried of messing with these"
   ]
  },
  {
   "cell_type": "code",
   "execution_count": 80,
   "metadata": {},
   "outputs": [
    {
     "data": {
      "text/latex": [
       "$\\displaystyle \\left[\\begin{matrix}- n_{0}^{2} - n_{1}^{2} - n_{2}^{2} + 1 & 0 & 0\\\\0 & - n_{0}^{2} - n_{1}^{2} - n_{2}^{2} + 1 & 0\\\\0 & 0 & - n_{0}^{2} - n_{1}^{2} - n_{2}^{2} + 1\\end{matrix}\\right]$"
      ],
      "text/plain": [
       "⎡    2     2     2                                                  ⎤\n",
       "⎢- n₀  - n₁  - n₂  + 1            0                      0          ⎥\n",
       "⎢                                                                   ⎥\n",
       "⎢                           2     2     2                           ⎥\n",
       "⎢          0            - n₀  - n₁  - n₂  + 1            0          ⎥\n",
       "⎢                                                                   ⎥\n",
       "⎢                                                  2     2     2    ⎥\n",
       "⎣          0                      0            - n₀  - n₁  - n₂  + 1⎦"
      ]
     },
     "metadata": {},
     "output_type": "display_data"
    },
    {
     "data": {
      "text/latex": [
       "$\\displaystyle \\left[\\begin{matrix}0 & n_{2} \\left(n_{0}^{2} + n_{1}^{2} + n_{2}^{2} - 1\\right) & n_{1} \\left(- n_{0}^{2} - n_{1}^{2} - n_{2}^{2} + 1\\right)\\\\n_{2} \\left(- n_{0}^{2} - n_{1}^{2} - n_{2}^{2} + 1\\right) & 0 & n_{0} \\left(n_{0}^{2} + n_{1}^{2} + n_{2}^{2} - 1\\right)\\\\n_{1} \\left(n_{0}^{2} + n_{1}^{2} + n_{2}^{2} - 1\\right) & n_{0} \\left(- n_{0}^{2} - n_{1}^{2} - n_{2}^{2} + 1\\right) & 0\\end{matrix}\\right]$"
      ],
      "text/plain": [
       "⎡                                ⎛  2     2     2    ⎞      ⎛    2     2     2\n",
       "⎢            0                n₂⋅⎝n₀  + n₁  + n₂  - 1⎠   n₁⋅⎝- n₀  - n₁  - n₂ \n",
       "⎢                                                                             \n",
       "⎢   ⎛    2     2     2    ⎞                                  ⎛  2     2     2 \n",
       "⎢n₂⋅⎝- n₀  - n₁  - n₂  + 1⎠              0                n₀⋅⎝n₀  + n₁  + n₂  \n",
       "⎢                                                                             \n",
       "⎢    ⎛  2     2     2    ⎞      ⎛    2     2     2    ⎞                       \n",
       "⎣ n₁⋅⎝n₀  + n₁  + n₂  - 1⎠   n₀⋅⎝- n₀  - n₁  - n₂  + 1⎠              0        \n",
       "\n",
       "    ⎞⎤\n",
       " + 1⎠⎥\n",
       "     ⎥\n",
       "   ⎞ ⎥\n",
       "- 1⎠ ⎥\n",
       "     ⎥\n",
       "     ⎥\n",
       "     ⎦"
      ]
     },
     "metadata": {},
     "output_type": "display_data"
    }
   ],
   "source": [
    "#2. Verify R^3, R, x are a Lie algebra - did this in the text exercises\n",
    "#3. Verify so(3) and se(3) are lie algebra = also did this in the text\n",
    "#4. Verify properties 4.20 and 4.21, I'm assuming this means 3.20 and 3.21\n",
    "#   which are some messy theta and n expressions. \n",
    "n = sf.V3.symbolic('n')\n",
    "display(n.skew_symmetric(n)*n.skew_symmetric(n)-(n*n.transpose()-sf.I33()))\n",
    "# note that n is unit vector so n0^2 + n1^2 + n2^2 = 1, so the displayed matrix is \n",
    "# actually all zeros.\n",
    "e = n.skew_symmetric(n)*n.skew_symmetric(n)*n.skew_symmetric(n)+ n.skew_symmetric(n) \n",
    "e.simplify()"
   ]
  },
  {
   "cell_type": "code",
   "execution_count": 136,
   "metadata": {},
   "outputs": [
    {
     "data": {
      "text/latex": [
       "$\\displaystyle \\left[\\begin{matrix}\\left(2 R_{w} R_{y} + 2 R_{x} R_{z}\\right) \\left(- p_{0} \\left(- 2 R_{w} R_{z} + 2 R_{x} R_{y}\\right) + p_{1} \\left(- 2 R_{y}^{2} - 2 R_{z}^{2} + 1\\right)\\right) + \\left(- 2 R_{w} R_{z} + 2 R_{x} R_{y}\\right) \\left(p_{0} \\cdot \\left(2 R_{w} R_{y} + 2 R_{x} R_{z}\\right) - p_{2} \\left(- 2 R_{y}^{2} - 2 R_{z}^{2} + 1\\right)\\right) + \\left(- p_{1} \\cdot \\left(2 R_{w} R_{y} + 2 R_{x} R_{z}\\right) + p_{2} \\left(- 2 R_{w} R_{z} + 2 R_{x} R_{y}\\right)\\right) \\left(- 2 R_{y}^{2} - 2 R_{z}^{2} + 1\\right) & p_{0} \\left(- 2 R_{w} R_{y} + 2 R_{x} R_{z}\\right) + p_{1} \\cdot \\left(2 R_{w} R_{x} + 2 R_{y} R_{z}\\right) + p_{2} \\left(- 2 R_{x}^{2} - 2 R_{y}^{2} + 1\\right) + \\left(- 2 R_{w} R_{x} + 2 R_{y} R_{z}\\right) \\left(- p_{0} \\left(- 2 R_{w} R_{z} + 2 R_{x} R_{y}\\right) + p_{1} \\left(- 2 R_{y}^{2} - 2 R_{z}^{2} + 1\\right)\\right) + \\left(2 R_{w} R_{z} + 2 R_{x} R_{y}\\right) \\left(- p_{1} \\cdot \\left(2 R_{w} R_{y} + 2 R_{x} R_{z}\\right) + p_{2} \\left(- 2 R_{w} R_{z} + 2 R_{x} R_{y}\\right)\\right) + \\left(p_{0} \\cdot \\left(2 R_{w} R_{y} + 2 R_{x} R_{z}\\right) - p_{2} \\left(- 2 R_{y}^{2} - 2 R_{z}^{2} + 1\\right)\\right) \\left(- 2 R_{x}^{2} - 2 R_{z}^{2} + 1\\right) & - p_{0} \\cdot \\left(2 R_{w} R_{z} + 2 R_{x} R_{y}\\right) - p_{1} \\left(- 2 R_{x}^{2} - 2 R_{z}^{2} + 1\\right) - p_{2} \\left(- 2 R_{w} R_{x} + 2 R_{y} R_{z}\\right) + \\left(2 R_{w} R_{x} + 2 R_{y} R_{z}\\right) \\left(p_{0} \\cdot \\left(2 R_{w} R_{y} + 2 R_{x} R_{z}\\right) - p_{2} \\left(- 2 R_{y}^{2} - 2 R_{z}^{2} + 1\\right)\\right) + \\left(- 2 R_{w} R_{y} + 2 R_{x} R_{z}\\right) \\left(- p_{1} \\cdot \\left(2 R_{w} R_{y} + 2 R_{x} R_{z}\\right) + p_{2} \\left(- 2 R_{w} R_{z} + 2 R_{x} R_{y}\\right)\\right) + \\left(- p_{0} \\left(- 2 R_{w} R_{z} + 2 R_{x} R_{y}\\right) + p_{1} \\left(- 2 R_{y}^{2} - 2 R_{z}^{2} + 1\\right)\\right) \\left(- 2 R_{x}^{2} - 2 R_{y}^{2} + 1\\right)\\\\- p_{0} \\left(- 2 R_{w} R_{y} + 2 R_{x} R_{z}\\right) - p_{1} \\cdot \\left(2 R_{w} R_{x} + 2 R_{y} R_{z}\\right) - p_{2} \\left(- 2 R_{x}^{2} - 2 R_{y}^{2} + 1\\right) + \\left(2 R_{w} R_{y} + 2 R_{x} R_{z}\\right) \\left(- p_{0} \\left(- 2 R_{x}^{2} - 2 R_{z}^{2} + 1\\right) + p_{1} \\cdot \\left(2 R_{w} R_{z} + 2 R_{x} R_{y}\\right)\\right) + \\left(- 2 R_{w} R_{z} + 2 R_{x} R_{y}\\right) \\left(p_{0} \\left(- 2 R_{w} R_{x} + 2 R_{y} R_{z}\\right) - p_{2} \\cdot \\left(2 R_{w} R_{z} + 2 R_{x} R_{y}\\right)\\right) + \\left(- p_{1} \\left(- 2 R_{w} R_{x} + 2 R_{y} R_{z}\\right) + p_{2} \\left(- 2 R_{x}^{2} - 2 R_{z}^{2} + 1\\right)\\right) \\left(- 2 R_{y}^{2} - 2 R_{z}^{2} + 1\\right) & \\left(- 2 R_{w} R_{x} + 2 R_{y} R_{z}\\right) \\left(- p_{0} \\left(- 2 R_{x}^{2} - 2 R_{z}^{2} + 1\\right) + p_{1} \\cdot \\left(2 R_{w} R_{z} + 2 R_{x} R_{y}\\right)\\right) + \\left(2 R_{w} R_{z} + 2 R_{x} R_{y}\\right) \\left(- p_{1} \\left(- 2 R_{w} R_{x} + 2 R_{y} R_{z}\\right) + p_{2} \\left(- 2 R_{x}^{2} - 2 R_{z}^{2} + 1\\right)\\right) + \\left(p_{0} \\left(- 2 R_{w} R_{x} + 2 R_{y} R_{z}\\right) - p_{2} \\cdot \\left(2 R_{w} R_{z} + 2 R_{x} R_{y}\\right)\\right) \\left(- 2 R_{x}^{2} - 2 R_{z}^{2} + 1\\right) & p_{0} \\left(- 2 R_{y}^{2} - 2 R_{z}^{2} + 1\\right) + p_{1} \\left(- 2 R_{w} R_{z} + 2 R_{x} R_{y}\\right) + p_{2} \\cdot \\left(2 R_{w} R_{y} + 2 R_{x} R_{z}\\right) + \\left(2 R_{w} R_{x} + 2 R_{y} R_{z}\\right) \\left(p_{0} \\left(- 2 R_{w} R_{x} + 2 R_{y} R_{z}\\right) - p_{2} \\cdot \\left(2 R_{w} R_{z} + 2 R_{x} R_{y}\\right)\\right) + \\left(- 2 R_{w} R_{y} + 2 R_{x} R_{z}\\right) \\left(- p_{1} \\left(- 2 R_{w} R_{x} + 2 R_{y} R_{z}\\right) + p_{2} \\left(- 2 R_{x}^{2} - 2 R_{z}^{2} + 1\\right)\\right) + \\left(- p_{0} \\left(- 2 R_{x}^{2} - 2 R_{z}^{2} + 1\\right) + p_{1} \\cdot \\left(2 R_{w} R_{z} + 2 R_{x} R_{y}\\right)\\right) \\left(- 2 R_{x}^{2} - 2 R_{y}^{2} + 1\\right)\\\\p_{0} \\cdot \\left(2 R_{w} R_{z} + 2 R_{x} R_{y}\\right) + p_{1} \\left(- 2 R_{x}^{2} - 2 R_{z}^{2} + 1\\right) + p_{2} \\left(- 2 R_{w} R_{x} + 2 R_{y} R_{z}\\right) + \\left(2 R_{w} R_{y} + 2 R_{x} R_{z}\\right) \\left(- p_{0} \\cdot \\left(2 R_{w} R_{x} + 2 R_{y} R_{z}\\right) + p_{1} \\left(- 2 R_{w} R_{y} + 2 R_{x} R_{z}\\right)\\right) + \\left(- 2 R_{w} R_{z} + 2 R_{x} R_{y}\\right) \\left(p_{0} \\left(- 2 R_{x}^{2} - 2 R_{y}^{2} + 1\\right) - p_{2} \\left(- 2 R_{w} R_{y} + 2 R_{x} R_{z}\\right)\\right) + \\left(- p_{1} \\left(- 2 R_{x}^{2} - 2 R_{y}^{2} + 1\\right) + p_{2} \\cdot \\left(2 R_{w} R_{x} + 2 R_{y} R_{z}\\right)\\right) \\left(- 2 R_{y}^{2} - 2 R_{z}^{2} + 1\\right) & - p_{0} \\left(- 2 R_{y}^{2} - 2 R_{z}^{2} + 1\\right) - p_{1} \\left(- 2 R_{w} R_{z} + 2 R_{x} R_{y}\\right) - p_{2} \\cdot \\left(2 R_{w} R_{y} + 2 R_{x} R_{z}\\right) + \\left(- 2 R_{w} R_{x} + 2 R_{y} R_{z}\\right) \\left(- p_{0} \\cdot \\left(2 R_{w} R_{x} + 2 R_{y} R_{z}\\right) + p_{1} \\left(- 2 R_{w} R_{y} + 2 R_{x} R_{z}\\right)\\right) + \\left(2 R_{w} R_{z} + 2 R_{x} R_{y}\\right) \\left(- p_{1} \\left(- 2 R_{x}^{2} - 2 R_{y}^{2} + 1\\right) + p_{2} \\cdot \\left(2 R_{w} R_{x} + 2 R_{y} R_{z}\\right)\\right) + \\left(p_{0} \\left(- 2 R_{x}^{2} - 2 R_{y}^{2} + 1\\right) - p_{2} \\left(- 2 R_{w} R_{y} + 2 R_{x} R_{z}\\right)\\right) \\left(- 2 R_{x}^{2} - 2 R_{z}^{2} + 1\\right) & \\left(2 R_{w} R_{x} + 2 R_{y} R_{z}\\right) \\left(p_{0} \\left(- 2 R_{x}^{2} - 2 R_{y}^{2} + 1\\right) - p_{2} \\left(- 2 R_{w} R_{y} + 2 R_{x} R_{z}\\right)\\right) + \\left(- 2 R_{w} R_{y} + 2 R_{x} R_{z}\\right) \\left(- p_{1} \\left(- 2 R_{x}^{2} - 2 R_{y}^{2} + 1\\right) + p_{2} \\cdot \\left(2 R_{w} R_{x} + 2 R_{y} R_{z}\\right)\\right) + \\left(- p_{0} \\cdot \\left(2 R_{w} R_{x} + 2 R_{y} R_{z}\\right) + p_{1} \\left(- 2 R_{w} R_{y} + 2 R_{x} R_{z}\\right)\\right) \\left(- 2 R_{x}^{2} - 2 R_{y}^{2} + 1\\right)\\end{matrix}\\right]$"
      ],
      "text/plain": [
       "⎡                                                                 ⎛           \n",
       "⎢                                          (2⋅R_w⋅R_y + 2⋅Rₓ⋅R_z)⋅⎝-p₀⋅(-2⋅R_w\n",
       "⎢                                                                             \n",
       "⎢                                                             ⎛      2        \n",
       "⎢-p₀⋅(-2⋅R_w⋅R_y + 2⋅Rₓ⋅R_z) - p₁⋅(2⋅R_w⋅Rₓ + 2⋅R_y⋅R_z) - p₂⋅⎝- 2⋅Rₓ  - 2⋅R_y\n",
       "⎢                                                                             \n",
       "⎢                               ⎛      2        2    ⎞                        \n",
       "⎣p₀⋅(2⋅R_w⋅R_z + 2⋅Rₓ⋅R_y) + p₁⋅⎝- 2⋅Rₓ  - 2⋅R_z  + 1⎠ + p₂⋅(-2⋅R_w⋅Rₓ + 2⋅R_y\n",
       "\n",
       "                      ⎛       2        2    ⎞⎞                           ⎛    \n",
       "⋅R_z + 2⋅Rₓ⋅R_y) + p₁⋅⎝- 2⋅R_y  - 2⋅R_z  + 1⎠⎠ + (-2⋅R_w⋅R_z + 2⋅Rₓ⋅R_y)⋅⎝p₀⋅(\n",
       "                                                                              \n",
       "2    ⎞                          ⎛     ⎛      2        2    ⎞                  \n",
       "  + 1⎠ + (2⋅R_w⋅R_y + 2⋅Rₓ⋅R_z)⋅⎝- p₀⋅⎝- 2⋅Rₓ  - 2⋅R_z  + 1⎠ + p₁⋅(2⋅R_w⋅R_z +\n",
       "                                                                              \n",
       "                                                                              \n",
       "⋅R_z) + (2⋅R_w⋅R_y + 2⋅Rₓ⋅R_z)⋅(-p₀⋅(2⋅R_w⋅Rₓ + 2⋅R_y⋅R_z) + p₁⋅(-2⋅R_w⋅R_y + \n",
       "\n",
       "                           ⎛       2        2    ⎞⎞                           \n",
       "2⋅R_w⋅R_y + 2⋅Rₓ⋅R_z) - p₂⋅⎝- 2⋅R_y  - 2⋅R_z  + 1⎠⎠ + (-p₁⋅(2⋅R_w⋅R_y + 2⋅Rₓ⋅R\n",
       "                                                                              \n",
       "          ⎞                                                                   \n",
       " 2⋅Rₓ⋅R_y)⎠ + (-2⋅R_w⋅R_z + 2⋅Rₓ⋅R_y)⋅(p₀⋅(-2⋅R_w⋅Rₓ + 2⋅R_y⋅R_z) - p₂⋅(2⋅R_w⋅\n",
       "                                                                              \n",
       "                                     ⎛   ⎛      2        2    ⎞               \n",
       "2⋅Rₓ⋅R_z)) + (-2⋅R_w⋅R_z + 2⋅Rₓ⋅R_y)⋅⎝p₀⋅⎝- 2⋅Rₓ  - 2⋅R_y  + 1⎠ - p₂⋅(-2⋅R_w⋅R\n",
       "\n",
       "                                  ⎛       2        2    ⎞                     \n",
       "_z) + p₂⋅(-2⋅R_w⋅R_z + 2⋅Rₓ⋅R_y))⋅⎝- 2⋅R_y  - 2⋅R_z  + 1⎠                     \n",
       "                                                                              \n",
       "                   ⎛                                 ⎛      2        2    ⎞⎞ ⎛\n",
       "R_z + 2⋅Rₓ⋅R_y)) + ⎝-p₁⋅(-2⋅R_w⋅Rₓ + 2⋅R_y⋅R_z) + p₂⋅⎝- 2⋅Rₓ  - 2⋅R_z  + 1⎠⎠⋅⎝\n",
       "                                                                              \n",
       "              ⎞   ⎛     ⎛      2        2    ⎞                            ⎞ ⎛ \n",
       "_y + 2⋅Rₓ⋅R_z)⎠ + ⎝- p₁⋅⎝- 2⋅Rₓ  - 2⋅R_y  + 1⎠ + p₂⋅(2⋅R_w⋅Rₓ + 2⋅R_y⋅R_z)⎠⋅⎝-\n",
       "\n",
       "                                                                              \n",
       "                         p₀⋅(-2⋅R_w⋅R_y + 2⋅Rₓ⋅R_z) + p₁⋅(2⋅R_w⋅Rₓ + 2⋅R_y⋅R_z\n",
       "                                                                              \n",
       "       2        2    ⎞                                                        \n",
       "- 2⋅R_y  - 2⋅R_z  + 1⎠                                              (-2⋅R_w⋅Rₓ\n",
       "                                                                              \n",
       "      2        2    ⎞        ⎛       2        2    ⎞                          \n",
       " 2⋅R_y  - 2⋅R_z  + 1⎠   - p₀⋅⎝- 2⋅R_y  - 2⋅R_z  + 1⎠ - p₁⋅(-2⋅R_w⋅R_z + 2⋅Rₓ⋅R\n",
       "\n",
       "       ⎛      2        2    ⎞                           ⎛                     \n",
       ") + p₂⋅⎝- 2⋅Rₓ  - 2⋅R_y  + 1⎠ + (-2⋅R_w⋅Rₓ + 2⋅R_y⋅R_z)⋅⎝-p₀⋅(-2⋅R_w⋅R_z + 2⋅R\n",
       "                                                                              \n",
       "              ⎛     ⎛      2        2    ⎞                            ⎞       \n",
       " + 2⋅R_y⋅R_z)⋅⎝- p₀⋅⎝- 2⋅Rₓ  - 2⋅R_z  + 1⎠ + p₁⋅(2⋅R_w⋅R_z + 2⋅Rₓ⋅R_y)⎠ + (2⋅R\n",
       "                                                                              \n",
       "                                                                              \n",
       "_y) - p₂⋅(2⋅R_w⋅R_y + 2⋅Rₓ⋅R_z) + (-2⋅R_w⋅Rₓ + 2⋅R_y⋅R_z)⋅(-p₀⋅(2⋅R_w⋅Rₓ + 2⋅R\n",
       "\n",
       "            ⎛       2        2    ⎞⎞                                          \n",
       "ₓ⋅R_y) + p₁⋅⎝- 2⋅R_y  - 2⋅R_z  + 1⎠⎠ + (2⋅R_w⋅R_z + 2⋅Rₓ⋅R_y)⋅(-p₁⋅(2⋅R_w⋅R_y \n",
       "                                                                              \n",
       "                   ⎛                                 ⎛      2        2    ⎞⎞  \n",
       "_w⋅R_z + 2⋅Rₓ⋅R_y)⋅⎝-p₁⋅(-2⋅R_w⋅Rₓ + 2⋅R_y⋅R_z) + p₂⋅⎝- 2⋅Rₓ  - 2⋅R_z  + 1⎠⎠ +\n",
       "                                                                              \n",
       "                                                               ⎛     ⎛      2 \n",
       "_y⋅R_z) + p₁⋅(-2⋅R_w⋅R_y + 2⋅Rₓ⋅R_z)) + (2⋅R_w⋅R_z + 2⋅Rₓ⋅R_y)⋅⎝- p₁⋅⎝- 2⋅Rₓ  \n",
       "\n",
       "                                            ⎛                               ⎛ \n",
       "+ 2⋅Rₓ⋅R_z) + p₂⋅(-2⋅R_w⋅R_z + 2⋅Rₓ⋅R_y)) + ⎝p₀⋅(2⋅R_w⋅R_y + 2⋅Rₓ⋅R_z) - p₂⋅⎝-\n",
       "                                                                              \n",
       "                                                          ⎛      2        2   \n",
       " (p₀⋅(-2⋅R_w⋅Rₓ + 2⋅R_y⋅R_z) - p₂⋅(2⋅R_w⋅R_z + 2⋅Rₓ⋅R_y))⋅⎝- 2⋅Rₓ  - 2⋅R_z  + \n",
       "                                                                              \n",
       "       2    ⎞                            ⎞   ⎛   ⎛      2        2    ⎞       \n",
       "- 2⋅R_y  + 1⎠ + p₂⋅(2⋅R_w⋅Rₓ + 2⋅R_y⋅R_z)⎠ + ⎝p₀⋅⎝- 2⋅Rₓ  - 2⋅R_y  + 1⎠ - p₂⋅(\n",
       "\n",
       "      2        2    ⎞⎞ ⎛      2        2    ⎞                                 \n",
       " 2⋅R_y  - 2⋅R_z  + 1⎠⎠⋅⎝- 2⋅Rₓ  - 2⋅R_z  + 1⎠   -p₀⋅(2⋅R_w⋅R_z + 2⋅Rₓ⋅R_y) - p\n",
       "                                                                              \n",
       " ⎞                                                 ⎛       2        2    ⎞    \n",
       "1⎠                                              p₀⋅⎝- 2⋅R_y  - 2⋅R_z  + 1⎠ + p\n",
       "                                                                              \n",
       "                      ⎞ ⎛      2        2    ⎞                                \n",
       "-2⋅R_w⋅R_y + 2⋅Rₓ⋅R_z)⎠⋅⎝- 2⋅Rₓ  - 2⋅R_z  + 1⎠                                \n",
       "\n",
       "  ⎛      2        2    ⎞                                                      \n",
       "₁⋅⎝- 2⋅Rₓ  - 2⋅R_z  + 1⎠ - p₂⋅(-2⋅R_w⋅Rₓ + 2⋅R_y⋅R_z) + (2⋅R_w⋅Rₓ + 2⋅R_y⋅R_z)\n",
       "                                                                              \n",
       "                                                                              \n",
       "₁⋅(-2⋅R_w⋅R_z + 2⋅Rₓ⋅R_y) + p₂⋅(2⋅R_w⋅R_y + 2⋅Rₓ⋅R_z) + (2⋅R_w⋅Rₓ + 2⋅R_y⋅R_z)\n",
       "                                                                              \n",
       "                                    ⎛   ⎛      2        2    ⎞                \n",
       "             (2⋅R_w⋅Rₓ + 2⋅R_y⋅R_z)⋅⎝p₀⋅⎝- 2⋅Rₓ  - 2⋅R_y  + 1⎠ - p₂⋅(-2⋅R_w⋅R_\n",
       "\n",
       " ⎛                               ⎛       2        2    ⎞⎞                     \n",
       "⋅⎝p₀⋅(2⋅R_w⋅R_y + 2⋅Rₓ⋅R_z) - p₂⋅⎝- 2⋅R_y  - 2⋅R_z  + 1⎠⎠ + (-2⋅R_w⋅R_y + 2⋅Rₓ\n",
       "                                                                              \n",
       "                                                                              \n",
       "⋅(p₀⋅(-2⋅R_w⋅Rₓ + 2⋅R_y⋅R_z) - p₂⋅(2⋅R_w⋅R_z + 2⋅Rₓ⋅R_y)) + (-2⋅R_w⋅R_y + 2⋅Rₓ\n",
       "                                                                              \n",
       "             ⎞                           ⎛     ⎛      2        2    ⎞         \n",
       "y + 2⋅Rₓ⋅R_z)⎠ + (-2⋅R_w⋅R_y + 2⋅Rₓ⋅R_z)⋅⎝- p₁⋅⎝- 2⋅Rₓ  - 2⋅R_y  + 1⎠ + p₂⋅(2⋅\n",
       "\n",
       "                                                                  ⎛           \n",
       "⋅R_z)⋅(-p₁⋅(2⋅R_w⋅R_y + 2⋅Rₓ⋅R_z) + p₂⋅(-2⋅R_w⋅R_z + 2⋅Rₓ⋅R_y)) + ⎝-p₀⋅(-2⋅R_w\n",
       "                                                                              \n",
       "      ⎛                                 ⎛      2        2    ⎞⎞   ⎛     ⎛     \n",
       "⋅R_z)⋅⎝-p₁⋅(-2⋅R_w⋅Rₓ + 2⋅R_y⋅R_z) + p₂⋅⎝- 2⋅Rₓ  - 2⋅R_z  + 1⎠⎠ + ⎝- p₀⋅⎝- 2⋅R\n",
       "                                                                              \n",
       "                   ⎞                                                          \n",
       "R_w⋅Rₓ + 2⋅R_y⋅R_z)⎠ + (-p₀⋅(2⋅R_w⋅Rₓ + 2⋅R_y⋅R_z) + p₁⋅(-2⋅R_w⋅R_y + 2⋅Rₓ⋅R_z\n",
       "\n",
       "                      ⎛       2        2    ⎞⎞ ⎛      2        2    ⎞⎤\n",
       "⋅R_z + 2⋅Rₓ⋅R_y) + p₁⋅⎝- 2⋅R_y  - 2⋅R_z  + 1⎠⎠⋅⎝- 2⋅Rₓ  - 2⋅R_y  + 1⎠⎥\n",
       "                                                                     ⎥\n",
       " 2        2    ⎞                            ⎞ ⎛      2        2    ⎞ ⎥\n",
       "ₓ  - 2⋅R_z  + 1⎠ + p₁⋅(2⋅R_w⋅R_z + 2⋅Rₓ⋅R_y)⎠⋅⎝- 2⋅Rₓ  - 2⋅R_y  + 1⎠ ⎥\n",
       "                                                                     ⎥\n",
       "   ⎛      2        2    ⎞                                            ⎥\n",
       "))⋅⎝- 2⋅Rₓ  - 2⋅R_y  + 1⎠                                            ⎦"
      ]
     },
     "metadata": {},
     "output_type": "display_data"
    }
   ],
   "source": [
    "# 5: Show that Rp^R^(T) = (Rp)^\n",
    "R = sf.Rot3.symbolic('R').to_rotation_matrix()\n",
    "p = sf.V3.symbolic('p')\n",
    "R*p.skew_symmetric(p)*R.transpose() - (R*p).skew_symmetric(R*p)\n",
    "# I give up on this one lol, can't figure it out. "
   ]
  },
  {
   "cell_type": "code",
   "execution_count": 149,
   "metadata": {},
   "outputs": [
    {
     "data": {
      "text/latex": [
       "$\\displaystyle \\left[\\begin{matrix}0 & 4 R_{z} \\left(R_{w}^{2} R_{x} p_{0} + R_{w}^{2} R_{y} p_{1} + R_{w}^{2} R_{z} p_{2} + R_{x}^{3} p_{0} + R_{x}^{2} R_{y} p_{1} + R_{x}^{2} R_{z} p_{2} + R_{x} R_{y}^{2} p_{0} + R_{x} R_{z}^{2} p_{0} - R_{x} p_{0} + R_{y}^{3} p_{1} + R_{y}^{2} R_{z} p_{2} + R_{y} R_{z}^{2} p_{1} - R_{y} p_{1} + R_{z}^{3} p_{2} - R_{z} p_{2}\\right) & 4 R_{y} \\left(- R_{w}^{2} R_{x} p_{0} - R_{w}^{2} R_{y} p_{1} - R_{w}^{2} R_{z} p_{2} - R_{x}^{3} p_{0} - R_{x}^{2} R_{y} p_{1} - R_{x}^{2} R_{z} p_{2} - R_{x} R_{y}^{2} p_{0} - R_{x} R_{z}^{2} p_{0} + R_{x} p_{0} - R_{y}^{3} p_{1} - R_{y}^{2} R_{z} p_{2} - R_{y} R_{z}^{2} p_{1} + R_{y} p_{1} - R_{z}^{3} p_{2} + R_{z} p_{2}\\right)\\\\4 R_{z} \\left(- R_{w}^{2} R_{x} p_{0} - R_{w}^{2} R_{y} p_{1} - R_{w}^{2} R_{z} p_{2} - R_{x}^{3} p_{0} - R_{x}^{2} R_{y} p_{1} - R_{x}^{2} R_{z} p_{2} - R_{x} R_{y}^{2} p_{0} - R_{x} R_{z}^{2} p_{0} + R_{x} p_{0} - R_{y}^{3} p_{1} - R_{y}^{2} R_{z} p_{2} - R_{y} R_{z}^{2} p_{1} + R_{y} p_{1} - R_{z}^{3} p_{2} + R_{z} p_{2}\\right) & 0 & 4 R_{x} \\left(R_{w}^{2} R_{x} p_{0} + R_{w}^{2} R_{y} p_{1} + R_{w}^{2} R_{z} p_{2} + R_{x}^{3} p_{0} + R_{x}^{2} R_{y} p_{1} + R_{x}^{2} R_{z} p_{2} + R_{x} R_{y}^{2} p_{0} + R_{x} R_{z}^{2} p_{0} - R_{x} p_{0} + R_{y}^{3} p_{1} + R_{y}^{2} R_{z} p_{2} + R_{y} R_{z}^{2} p_{1} - R_{y} p_{1} + R_{z}^{3} p_{2} - R_{z} p_{2}\\right)\\\\4 R_{y} \\left(R_{w}^{2} R_{x} p_{0} + R_{w}^{2} R_{y} p_{1} + R_{w}^{2} R_{z} p_{2} + R_{x}^{3} p_{0} + R_{x}^{2} R_{y} p_{1} + R_{x}^{2} R_{z} p_{2} + R_{x} R_{y}^{2} p_{0} + R_{x} R_{z}^{2} p_{0} - R_{x} p_{0} + R_{y}^{3} p_{1} + R_{y}^{2} R_{z} p_{2} + R_{y} R_{z}^{2} p_{1} - R_{y} p_{1} + R_{z}^{3} p_{2} - R_{z} p_{2}\\right) & 4 R_{x} \\left(- R_{w}^{2} R_{x} p_{0} - R_{w}^{2} R_{y} p_{1} - R_{w}^{2} R_{z} p_{2} - R_{x}^{3} p_{0} - R_{x}^{2} R_{y} p_{1} - R_{x}^{2} R_{z} p_{2} - R_{x} R_{y}^{2} p_{0} - R_{x} R_{z}^{2} p_{0} + R_{x} p_{0} - R_{y}^{3} p_{1} - R_{y}^{2} R_{z} p_{2} - R_{y} R_{z}^{2} p_{1} + R_{y} p_{1} - R_{z}^{3} p_{2} + R_{z} p_{2}\\right) & 0\\end{matrix}\\right]$"
      ],
      "text/plain": [
       "⎡                                                                             \n",
       "⎢                                                                             \n",
       "⎢                                                                             \n",
       "⎢      ⎛     2            2             2            3        2            2  \n",
       "⎢4⋅R_z⋅⎝- R_w ⋅Rₓ⋅p₀ - R_w ⋅R_y⋅p₁ - R_w ⋅R_z⋅p₂ - Rₓ ⋅p₀ - Rₓ ⋅R_y⋅p₁ - Rₓ ⋅R\n",
       "⎢                                                                             \n",
       "⎢       ⎛   2            2             2            3        2            2   \n",
       "⎣ 4⋅R_y⋅⎝R_w ⋅Rₓ⋅p₀ + R_w ⋅R_y⋅p₁ + R_w ⋅R_z⋅p₂ + Rₓ ⋅p₀ + Rₓ ⋅R_y⋅p₁ + Rₓ ⋅R_\n",
       "\n",
       "                                                                              \n",
       "              0                                                               \n",
       "                                                                              \n",
       "              2            2                 3         2                 2    \n",
       "_z⋅p₂ - Rₓ⋅R_y ⋅p₀ - Rₓ⋅R_z ⋅p₀ + Rₓ⋅p₀ - R_y ⋅p₁ - R_y ⋅R_z⋅p₂ - R_y⋅R_z ⋅p₁ \n",
       "                                                                              \n",
       "             2            2                 3         2                 2     \n",
       "z⋅p₂ + Rₓ⋅R_y ⋅p₀ + Rₓ⋅R_z ⋅p₀ - Rₓ⋅p₀ + R_y ⋅p₁ + R_y ⋅R_z⋅p₂ + R_y⋅R_z ⋅p₁ -\n",
       "\n",
       "                                    ⎛   2            2             2          \n",
       "                              4⋅R_z⋅⎝R_w ⋅Rₓ⋅p₀ + R_w ⋅R_y⋅p₁ + R_w ⋅R_z⋅p₂ + \n",
       "                                                                              \n",
       "              3            ⎞                                                  \n",
       "+ R_y⋅p₁ - R_z ⋅p₂ + R_z⋅p₂⎠                                                  \n",
       "                                                                              \n",
       "             3            ⎞        ⎛     2            2             2         \n",
       " R_y⋅p₁ + R_z ⋅p₂ - R_z⋅p₂⎠   4⋅Rₓ⋅⎝- R_w ⋅Rₓ⋅p₀ - R_w ⋅R_y⋅p₁ - R_w ⋅R_z⋅p₂ -\n",
       "\n",
       "  3        2            2                2            2                 3     \n",
       "Rₓ ⋅p₀ + Rₓ ⋅R_y⋅p₁ + Rₓ ⋅R_z⋅p₂ + Rₓ⋅R_y ⋅p₀ + Rₓ⋅R_z ⋅p₀ - Rₓ⋅p₀ + R_y ⋅p₁ +\n",
       "                                                                              \n",
       "                                                                              \n",
       "                                          0                                   \n",
       "                                                                              \n",
       "   3        2            2                2            2                 3    \n",
       " Rₓ ⋅p₀ - Rₓ ⋅R_y⋅p₁ - Rₓ ⋅R_z⋅p₂ - Rₓ⋅R_y ⋅p₀ - Rₓ⋅R_z ⋅p₀ + Rₓ⋅p₀ - R_y ⋅p₁ \n",
       "\n",
       "    2                 2                  3            ⎞         ⎛     2       \n",
       " R_y ⋅R_z⋅p₂ + R_y⋅R_z ⋅p₁ - R_y⋅p₁ + R_z ⋅p₂ - R_z⋅p₂⎠   4⋅R_y⋅⎝- R_w ⋅Rₓ⋅p₀ \n",
       "                                                                              \n",
       "                                                                ⎛   2         \n",
       "                                                           4⋅Rₓ⋅⎝R_w ⋅Rₓ⋅p₀ + \n",
       "                                                                              \n",
       "     2                 2                  3            ⎞                      \n",
       "- R_y ⋅R_z⋅p₂ - R_y⋅R_z ⋅p₁ + R_y⋅p₁ - R_z ⋅p₂ + R_z⋅p₂⎠                      \n",
       "\n",
       "     2             2            3        2            2                2      \n",
       "- R_w ⋅R_y⋅p₁ - R_w ⋅R_z⋅p₂ - Rₓ ⋅p₀ - Rₓ ⋅R_y⋅p₁ - Rₓ ⋅R_z⋅p₂ - Rₓ⋅R_y ⋅p₀ - \n",
       "                                                                              \n",
       "   2             2            3        2            2                2        \n",
       "R_w ⋅R_y⋅p₁ + R_w ⋅R_z⋅p₂ + Rₓ ⋅p₀ + Rₓ ⋅R_y⋅p₁ + Rₓ ⋅R_z⋅p₂ + Rₓ⋅R_y ⋅p₀ + Rₓ\n",
       "                                                                              \n",
       "                                                                              \n",
       "                                                                       0      \n",
       "\n",
       "      2                 3         2                 2                  3      \n",
       "Rₓ⋅R_z ⋅p₀ + Rₓ⋅p₀ - R_y ⋅p₁ - R_y ⋅R_z⋅p₂ - R_y⋅R_z ⋅p₁ + R_y⋅p₁ - R_z ⋅p₂ + \n",
       "                                                                              \n",
       "    2                 3         2                 2                  3        \n",
       "⋅R_z ⋅p₀ - Rₓ⋅p₀ + R_y ⋅p₁ + R_y ⋅R_z⋅p₂ + R_y⋅R_z ⋅p₁ - R_y⋅p₁ + R_z ⋅p₂ - R_\n",
       "                                                                              \n",
       "                                                                              \n",
       "                                                                              \n",
       "\n",
       "      ⎞⎤\n",
       "R_z⋅p₂⎠⎥\n",
       "       ⎥\n",
       "    ⎞  ⎥\n",
       "z⋅p₂⎠  ⎥\n",
       "       ⎥\n",
       "       ⎥\n",
       "       ⎦"
      ]
     },
     "metadata": {},
     "output_type": "display_data"
    }
   ],
   "source": [
    "# 6: Show R*exp(p^)*R^T = exp((R*p)^)\n",
    "v1 = R*p.skew_symmetric(p).from_tangent(p.skew_symmetric(p))*R.transpose()\n",
    "v2 = ((R*p).skew_symmetric(R*p)).from_tangent((R*p).skew_symmetric(R*p))\n",
    "(v1 - v2).simplify()"
   ]
  },
  {
   "cell_type": "code",
   "execution_count": null,
   "metadata": {},
   "outputs": [],
   "source": []
  }
 ],
 "metadata": {
  "kernelspec": {
   "display_name": "Python 3",
   "language": "python",
   "name": "python3"
  },
  "language_info": {
   "codemirror_mode": {
    "name": "ipython",
    "version": 3
   },
   "file_extension": ".py",
   "mimetype": "text/x-python",
   "name": "python",
   "nbconvert_exporter": "python",
   "pygments_lexer": "ipython3",
   "version": "3.10.6"
  },
  "orig_nbformat": 4,
  "vscode": {
   "interpreter": {
    "hash": "916dbcbb3f70747c44a77c7bcd40155683ae19c65e1c03b4aa3499c5328201f1"
   }
  }
 },
 "nbformat": 4,
 "nbformat_minor": 2
}
